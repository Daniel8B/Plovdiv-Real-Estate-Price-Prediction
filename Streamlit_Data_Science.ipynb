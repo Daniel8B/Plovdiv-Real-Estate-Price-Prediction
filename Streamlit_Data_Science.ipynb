{
  "nbformat": 4,
  "nbformat_minor": 0,
  "metadata": {
    "colab": {
      "provenance": [],
      "authorship_tag": "ABX9TyOLaIT13tIa5ArmuEgHcnuP",
      "include_colab_link": true
    },
    "kernelspec": {
      "name": "python3",
      "display_name": "Python 3"
    },
    "language_info": {
      "name": "python"
    }
  },
  "cells": [
    {
      "cell_type": "markdown",
      "metadata": {
        "id": "view-in-github",
        "colab_type": "text"
      },
      "source": [
        "<a href=\"https://colab.research.google.com/github/Daniel8B/Plovdiv-Real-Estate-Price-Prediction/blob/main/Streamlit_Data_Science.ipynb\" target=\"_parent\"><img src=\"https://colab.research.google.com/assets/colab-badge.svg\" alt=\"Open In Colab\"/></a>"
      ]
    },
    {
      "cell_type": "code",
      "execution_count": null,
      "metadata": {
        "colab": {
          "base_uri": "https://localhost:8080/"
        },
        "id": "p9DFSNwQbYY4",
        "outputId": "f5b80305-36ee-43ad-d2a6-c76c6fe0f6bb"
      },
      "outputs": [
        {
          "output_type": "stream",
          "name": "stdout",
          "text": [
            "Requirement already satisfied: streamlit in /usr/local/lib/python3.10/dist-packages (1.30.0)\n",
            "Requirement already satisfied: altair<6,>=4.0 in /usr/local/lib/python3.10/dist-packages (from streamlit) (4.2.2)\n",
            "Requirement already satisfied: blinker<2,>=1.0.0 in /usr/lib/python3/dist-packages (from streamlit) (1.4)\n",
            "Requirement already satisfied: cachetools<6,>=4.0 in /usr/local/lib/python3.10/dist-packages (from streamlit) (5.3.2)\n",
            "Requirement already satisfied: click<9,>=7.0 in /usr/local/lib/python3.10/dist-packages (from streamlit) (8.1.7)\n",
            "Requirement already satisfied: importlib-metadata<8,>=1.4 in /usr/local/lib/python3.10/dist-packages (from streamlit) (7.0.1)\n",
            "Requirement already satisfied: numpy<2,>=1.19.3 in /usr/local/lib/python3.10/dist-packages (from streamlit) (1.23.5)\n",
            "Requirement already satisfied: packaging<24,>=16.8 in /usr/local/lib/python3.10/dist-packages (from streamlit) (23.2)\n",
            "Requirement already satisfied: pandas<3,>=1.3.0 in /usr/local/lib/python3.10/dist-packages (from streamlit) (1.5.3)\n",
            "Requirement already satisfied: pillow<11,>=7.1.0 in /usr/local/lib/python3.10/dist-packages (from streamlit) (9.4.0)\n",
            "Requirement already satisfied: protobuf<5,>=3.20 in /usr/local/lib/python3.10/dist-packages (from streamlit) (3.20.3)\n",
            "Requirement already satisfied: pyarrow>=6.0 in /usr/local/lib/python3.10/dist-packages (from streamlit) (10.0.1)\n",
            "Requirement already satisfied: python-dateutil<3,>=2.7.3 in /usr/local/lib/python3.10/dist-packages (from streamlit) (2.8.2)\n",
            "Requirement already satisfied: requests<3,>=2.27 in /usr/local/lib/python3.10/dist-packages (from streamlit) (2.31.0)\n",
            "Requirement already satisfied: rich<14,>=10.14.0 in /usr/local/lib/python3.10/dist-packages (from streamlit) (13.7.0)\n",
            "Requirement already satisfied: tenacity<9,>=8.1.0 in /usr/local/lib/python3.10/dist-packages (from streamlit) (8.2.3)\n",
            "Requirement already satisfied: toml<2,>=0.10.1 in /usr/local/lib/python3.10/dist-packages (from streamlit) (0.10.2)\n",
            "Requirement already satisfied: typing-extensions<5,>=4.3.0 in /usr/local/lib/python3.10/dist-packages (from streamlit) (4.5.0)\n",
            "Requirement already satisfied: tzlocal<6,>=1.1 in /usr/local/lib/python3.10/dist-packages (from streamlit) (5.2)\n",
            "Requirement already satisfied: validators<1,>=0.2 in /usr/local/lib/python3.10/dist-packages (from streamlit) (0.22.0)\n",
            "Requirement already satisfied: gitpython!=3.1.19,<4,>=3.0.7 in /usr/local/lib/python3.10/dist-packages (from streamlit) (3.1.41)\n",
            "Requirement already satisfied: pydeck<1,>=0.8.0b4 in /usr/local/lib/python3.10/dist-packages (from streamlit) (0.8.1b0)\n",
            "Requirement already satisfied: tornado<7,>=6.0.3 in /usr/local/lib/python3.10/dist-packages (from streamlit) (6.3.2)\n",
            "Requirement already satisfied: watchdog>=2.1.5 in /usr/local/lib/python3.10/dist-packages (from streamlit) (3.0.0)\n",
            "Requirement already satisfied: entrypoints in /usr/local/lib/python3.10/dist-packages (from altair<6,>=4.0->streamlit) (0.4)\n",
            "Requirement already satisfied: jinja2 in /usr/local/lib/python3.10/dist-packages (from altair<6,>=4.0->streamlit) (3.1.3)\n",
            "Requirement already satisfied: jsonschema>=3.0 in /usr/local/lib/python3.10/dist-packages (from altair<6,>=4.0->streamlit) (4.19.2)\n",
            "Requirement already satisfied: toolz in /usr/local/lib/python3.10/dist-packages (from altair<6,>=4.0->streamlit) (0.12.1)\n",
            "Requirement already satisfied: gitdb<5,>=4.0.1 in /usr/local/lib/python3.10/dist-packages (from gitpython!=3.1.19,<4,>=3.0.7->streamlit) (4.0.11)\n",
            "Requirement already satisfied: zipp>=0.5 in /usr/local/lib/python3.10/dist-packages (from importlib-metadata<8,>=1.4->streamlit) (3.17.0)\n",
            "Requirement already satisfied: pytz>=2020.1 in /usr/local/lib/python3.10/dist-packages (from pandas<3,>=1.3.0->streamlit) (2023.3.post1)\n",
            "Requirement already satisfied: six>=1.5 in /usr/local/lib/python3.10/dist-packages (from python-dateutil<3,>=2.7.3->streamlit) (1.16.0)\n",
            "Requirement already satisfied: charset-normalizer<4,>=2 in /usr/local/lib/python3.10/dist-packages (from requests<3,>=2.27->streamlit) (3.3.2)\n",
            "Requirement already satisfied: idna<4,>=2.5 in /usr/local/lib/python3.10/dist-packages (from requests<3,>=2.27->streamlit) (3.6)\n",
            "Requirement already satisfied: urllib3<3,>=1.21.1 in /usr/local/lib/python3.10/dist-packages (from requests<3,>=2.27->streamlit) (2.0.7)\n",
            "Requirement already satisfied: certifi>=2017.4.17 in /usr/local/lib/python3.10/dist-packages (from requests<3,>=2.27->streamlit) (2023.11.17)\n",
            "Requirement already satisfied: markdown-it-py>=2.2.0 in /usr/local/lib/python3.10/dist-packages (from rich<14,>=10.14.0->streamlit) (3.0.0)\n",
            "Requirement already satisfied: pygments<3.0.0,>=2.13.0 in /usr/local/lib/python3.10/dist-packages (from rich<14,>=10.14.0->streamlit) (2.16.1)\n",
            "Requirement already satisfied: smmap<6,>=3.0.1 in /usr/local/lib/python3.10/dist-packages (from gitdb<5,>=4.0.1->gitpython!=3.1.19,<4,>=3.0.7->streamlit) (5.0.1)\n",
            "Requirement already satisfied: MarkupSafe>=2.0 in /usr/local/lib/python3.10/dist-packages (from jinja2->altair<6,>=4.0->streamlit) (2.1.4)\n",
            "Requirement already satisfied: attrs>=22.2.0 in /usr/local/lib/python3.10/dist-packages (from jsonschema>=3.0->altair<6,>=4.0->streamlit) (23.2.0)\n",
            "Requirement already satisfied: jsonschema-specifications>=2023.03.6 in /usr/local/lib/python3.10/dist-packages (from jsonschema>=3.0->altair<6,>=4.0->streamlit) (2023.12.1)\n",
            "Requirement already satisfied: referencing>=0.28.4 in /usr/local/lib/python3.10/dist-packages (from jsonschema>=3.0->altair<6,>=4.0->streamlit) (0.32.1)\n",
            "Requirement already satisfied: rpds-py>=0.7.1 in /usr/local/lib/python3.10/dist-packages (from jsonschema>=3.0->altair<6,>=4.0->streamlit) (0.17.1)\n",
            "Requirement already satisfied: mdurl~=0.1 in /usr/local/lib/python3.10/dist-packages (from markdown-it-py>=2.2.0->rich<14,>=10.14.0->streamlit) (0.1.2)\n"
          ]
        }
      ],
      "source": [
        "#!pip install streamlit"
      ]
    },
    {
      "cell_type": "code",
      "source": [
        "import streamlit as st\n",
        "import pickle\n",
        "import xgboost as xg"
      ],
      "metadata": {
        "id": "HtvuPdH6bcQK"
      },
      "execution_count": null,
      "outputs": []
    },
    {
      "cell_type": "code",
      "source": [
        "load_model = pickle.load(open('pld_estate_prediction_model.pkl', 'rb'))"
      ],
      "metadata": {
        "colab": {
          "base_uri": "https://localhost:8080/"
        },
        "id": "8_i_3KwRg2SO",
        "outputId": "bd20e950-3254-41d9-9376-ad50d5492031"
      },
      "execution_count": null,
      "outputs": [
        {
          "output_type": "stream",
          "name": "stdout",
          "text": [
            "/content/plotting_app\n"
          ]
        }
      ]
    },
    {
      "cell_type": "code",
      "source": [
        "def predict_price(apartment_type, square_meters, construction_year,\n",
        "                  floor_number, district, construction_type,\n",
        "                  floor, level_of_completion):\n",
        "\n",
        "    # Prepare input features as a DataFrame\n",
        "    input_data = x = np.zeros(len(features.columns))\n",
        "\n",
        "    district_index = np.where(features.columns == district)[0][0]\n",
        "    costruction_type_index = np.where(features.columns == construction_type)[0][0]\n",
        "    floor_index = np.where(features.columns == floor)[0][0]\n",
        "    completion_index = np.where(features.columns == level_of_completion)[0][0]\n",
        "\n",
        "    input_data[0] = apartment_type\n",
        "    input_data[1] = square_meters\n",
        "    input_data[2] = construction_year\n",
        "    input_data[3] = floor_number\n",
        "    input_data[district_index] = 1\n",
        "    input_data[costruction_type_index] = 1\n",
        "    input_data[floor_index] = 1\n",
        "    input_data[completion_index] = 1\n",
        "\n",
        "\n",
        "    # Make prediction\n",
        "    prediction = best_model.predict([input_data])[0]\n",
        "\n",
        "    return prediction"
      ],
      "metadata": {
        "id": "X2PfW6MbvjO_"
      },
      "execution_count": null,
      "outputs": []
    },
    {
      "cell_type": "code",
      "source": [
        "prediction = load_model.predict([X])"
      ],
      "metadata": {
        "id": "N3HYgjqLhH2S"
      },
      "execution_count": null,
      "outputs": []
    },
    {
      "cell_type": "code",
      "source": [
        "features = ['apartment type', 'square meters', 'construction year', 'floor number',\n",
        "       'district_Belomorski', 'district_Central', 'district_Gagarin',\n",
        "       'district_Hristo Smirnenski', 'district_Judicial',\n",
        "       'district_Kamenitza 1', 'district_Kamenitza 2', 'district_Komatevo',\n",
        "       'district_Kurshiyaka', 'district_Marasha', 'district_Ostromila',\n",
        "       'district_Proslav', 'district_Southern', 'district_Sunrise',\n",
        "       'district_Thrace', 'district_Western', 'district_Youth hill',\n",
        "       'construction type_ Panel', 'construction type_Bricks',\n",
        "       'construction type_Formwork', 'construction type_Joist', 'floor_Attic',\n",
        "       'floor_Basement', 'floor_First', 'floor_Ground floor', 'floor_Last',\n",
        "       'floor_Not last', 'floor_Unknown', 'level of completion_In a project',\n",
        "       'level of completion_In construction', 'level of completion_Unknown']"
      ],
      "metadata": {
        "id": "uRmfQlk2wi5i"
      },
      "execution_count": null,
      "outputs": []
    },
    {
      "cell_type": "code",
      "source": [
        "# Streamlit UI\n",
        "st.title(\"Real Estate Price Prediction App\")\n",
        "\n",
        "# Input for numerical features\n",
        "apartment_type = st.number_input(\"Enter Numerical Feature 1:\", min_value=1)\n",
        "square_meters = st.number_input(\"Enter Numerical Feature 2:\", min_value=20)\n",
        "construction_year = st.number_input(\"Enter Numerical Feature 3:\", min_value=1886)\n",
        "floor_number = st.number_input(\"Enter Numerical Feature 3:\", min_value=1)\n",
        "# Dropdowns for categorical features\n",
        "district = st.selectbox('Select district:', features.columns[features.columns.str.contains(\"district\")].values)\n",
        "construction_type = st.selectbox('Select Construction type:', features.columns[features.columns.str.contains(\"construction type\")].values)\n",
        "floor = st.selectbox('Select Floor type:', features.columns[features.columns.str.contains(\"floor\")].values)\n",
        "level_of_completion = st.selectbox('Select Level of completion:', features.columns[features.columns.str.contains(\"level of completion\")].values)"
      ],
      "metadata": {
        "id": "zaVqj8uVw4B5"
      },
      "execution_count": null,
      "outputs": []
    },
    {
      "cell_type": "code",
      "source": [
        "if st.button(\"Predict Price\"):\n",
        "    predicted_price = predict_price(apartment_type, square_meters, construction_year,\n",
        "                                    floor_number, district, construction_type, floor, level_of_completion)\n",
        "\n",
        "    st.success(f\"Predicted Price: ${predicted_price:,.2f}\")"
      ],
      "metadata": {
        "id": "8z3n62PCvfor"
      },
      "execution_count": null,
      "outputs": []
    }
  ]
}