{
  "nbformat": 4,
  "nbformat_minor": 0,
  "metadata": {
    "colab": {
      "provenance": [],
      "collapsed_sections": [
        "mBqbNtN0-gtO",
        "_l8lPseyClO_",
        "J3FhgJ31M8hY"
      ],
      "authorship_tag": "ABX9TyMY0jgn3MsZSeg9vTlf3BSh",
      "include_colab_link": true
    },
    "kernelspec": {
      "name": "python3",
      "display_name": "Python 3"
    },
    "language_info": {
      "name": "python"
    }
  },
  "cells": [
    {
      "cell_type": "markdown",
      "metadata": {
        "id": "view-in-github",
        "colab_type": "text"
      },
      "source": [
        "<a href=\"https://colab.research.google.com/github/Daniel8B/Plovdiv-Real-Estate-Price-Prediction/blob/main/Plovdiv_Real_Estate_Price_Prediction.ipynb\" target=\"_parent\"><img src=\"https://colab.research.google.com/assets/colab-badge.svg\" alt=\"Open In Colab\"/></a>"
      ]
    },
    {
      "cell_type": "markdown",
      "source": [
        "## Install and Import dependencies"
      ],
      "metadata": {
        "id": "_BKbyC2tIuo1"
      }
    },
    {
      "cell_type": "code",
      "source": [
        "!pip install optuna streamlit"
      ],
      "metadata": {
        "id": "nAKZYGBibaa-",
        "colab": {
          "base_uri": "https://localhost:8080/"
        },
        "outputId": "ec714cd6-7619-437b-b3d8-ff7749897340"
      },
      "execution_count": 444,
      "outputs": [
        {
          "output_type": "stream",
          "name": "stdout",
          "text": [
            "Requirement already satisfied: optuna in /usr/local/lib/python3.10/dist-packages (3.5.0)\n",
            "Requirement already satisfied: streamlit in /usr/local/lib/python3.10/dist-packages (1.31.0)\n",
            "Requirement already satisfied: alembic>=1.5.0 in /usr/local/lib/python3.10/dist-packages (from optuna) (1.13.1)\n",
            "Requirement already satisfied: colorlog in /usr/local/lib/python3.10/dist-packages (from optuna) (6.8.2)\n",
            "Requirement already satisfied: numpy in /usr/local/lib/python3.10/dist-packages (from optuna) (1.23.5)\n",
            "Requirement already satisfied: packaging>=20.0 in /usr/local/lib/python3.10/dist-packages (from optuna) (23.2)\n",
            "Requirement already satisfied: sqlalchemy>=1.3.0 in /usr/local/lib/python3.10/dist-packages (from optuna) (2.0.24)\n",
            "Requirement already satisfied: tqdm in /usr/local/lib/python3.10/dist-packages (from optuna) (4.66.1)\n",
            "Requirement already satisfied: PyYAML in /usr/local/lib/python3.10/dist-packages (from optuna) (6.0.1)\n",
            "Requirement already satisfied: altair<6,>=4.0 in /usr/local/lib/python3.10/dist-packages (from streamlit) (4.2.2)\n",
            "Requirement already satisfied: blinker<2,>=1.0.0 in /usr/lib/python3/dist-packages (from streamlit) (1.4)\n",
            "Requirement already satisfied: cachetools<6,>=4.0 in /usr/local/lib/python3.10/dist-packages (from streamlit) (5.3.2)\n",
            "Requirement already satisfied: click<9,>=7.0 in /usr/local/lib/python3.10/dist-packages (from streamlit) (8.1.7)\n",
            "Requirement already satisfied: importlib-metadata<8,>=1.4 in /usr/local/lib/python3.10/dist-packages (from streamlit) (7.0.1)\n",
            "Requirement already satisfied: pandas<3,>=1.3.0 in /usr/local/lib/python3.10/dist-packages (from streamlit) (1.5.3)\n",
            "Requirement already satisfied: pillow<11,>=7.1.0 in /usr/local/lib/python3.10/dist-packages (from streamlit) (9.4.0)\n",
            "Requirement already satisfied: protobuf<5,>=3.20 in /usr/local/lib/python3.10/dist-packages (from streamlit) (3.20.3)\n",
            "Requirement already satisfied: pyarrow>=7.0 in /usr/local/lib/python3.10/dist-packages (from streamlit) (10.0.1)\n",
            "Requirement already satisfied: python-dateutil<3,>=2.7.3 in /usr/local/lib/python3.10/dist-packages (from streamlit) (2.8.2)\n",
            "Requirement already satisfied: requests<3,>=2.27 in /usr/local/lib/python3.10/dist-packages (from streamlit) (2.31.0)\n",
            "Requirement already satisfied: rich<14,>=10.14.0 in /usr/local/lib/python3.10/dist-packages (from streamlit) (13.7.0)\n",
            "Requirement already satisfied: tenacity<9,>=8.1.0 in /usr/local/lib/python3.10/dist-packages (from streamlit) (8.2.3)\n",
            "Requirement already satisfied: toml<2,>=0.10.1 in /usr/local/lib/python3.10/dist-packages (from streamlit) (0.10.2)\n",
            "Requirement already satisfied: typing-extensions<5,>=4.3.0 in /usr/local/lib/python3.10/dist-packages (from streamlit) (4.5.0)\n",
            "Requirement already satisfied: tzlocal<6,>=1.1 in /usr/local/lib/python3.10/dist-packages (from streamlit) (5.2)\n",
            "Requirement already satisfied: validators<1,>=0.2 in /usr/local/lib/python3.10/dist-packages (from streamlit) (0.22.0)\n",
            "Requirement already satisfied: gitpython!=3.1.19,<4,>=3.0.7 in /usr/local/lib/python3.10/dist-packages (from streamlit) (3.1.41)\n",
            "Requirement already satisfied: pydeck<1,>=0.8.0b4 in /usr/local/lib/python3.10/dist-packages (from streamlit) (0.8.1b0)\n",
            "Requirement already satisfied: tornado<7,>=6.0.3 in /usr/local/lib/python3.10/dist-packages (from streamlit) (6.3.2)\n",
            "Requirement already satisfied: watchdog>=2.1.5 in /usr/local/lib/python3.10/dist-packages (from streamlit) (3.0.0)\n",
            "Requirement already satisfied: Mako in /usr/local/lib/python3.10/dist-packages (from alembic>=1.5.0->optuna) (1.3.2)\n",
            "Requirement already satisfied: entrypoints in /usr/local/lib/python3.10/dist-packages (from altair<6,>=4.0->streamlit) (0.4)\n",
            "Requirement already satisfied: jinja2 in /usr/local/lib/python3.10/dist-packages (from altair<6,>=4.0->streamlit) (3.1.3)\n",
            "Requirement already satisfied: jsonschema>=3.0 in /usr/local/lib/python3.10/dist-packages (from altair<6,>=4.0->streamlit) (4.19.2)\n",
            "Requirement already satisfied: toolz in /usr/local/lib/python3.10/dist-packages (from altair<6,>=4.0->streamlit) (0.12.1)\n",
            "Requirement already satisfied: gitdb<5,>=4.0.1 in /usr/local/lib/python3.10/dist-packages (from gitpython!=3.1.19,<4,>=3.0.7->streamlit) (4.0.11)\n",
            "Requirement already satisfied: zipp>=0.5 in /usr/local/lib/python3.10/dist-packages (from importlib-metadata<8,>=1.4->streamlit) (3.17.0)\n",
            "Requirement already satisfied: pytz>=2020.1 in /usr/local/lib/python3.10/dist-packages (from pandas<3,>=1.3.0->streamlit) (2023.4)\n",
            "Requirement already satisfied: six>=1.5 in /usr/local/lib/python3.10/dist-packages (from python-dateutil<3,>=2.7.3->streamlit) (1.16.0)\n",
            "Requirement already satisfied: charset-normalizer<4,>=2 in /usr/local/lib/python3.10/dist-packages (from requests<3,>=2.27->streamlit) (3.3.2)\n",
            "Requirement already satisfied: idna<4,>=2.5 in /usr/local/lib/python3.10/dist-packages (from requests<3,>=2.27->streamlit) (3.6)\n",
            "Requirement already satisfied: urllib3<3,>=1.21.1 in /usr/local/lib/python3.10/dist-packages (from requests<3,>=2.27->streamlit) (2.0.7)\n",
            "Requirement already satisfied: certifi>=2017.4.17 in /usr/local/lib/python3.10/dist-packages (from requests<3,>=2.27->streamlit) (2023.11.17)\n",
            "Requirement already satisfied: markdown-it-py>=2.2.0 in /usr/local/lib/python3.10/dist-packages (from rich<14,>=10.14.0->streamlit) (3.0.0)\n",
            "Requirement already satisfied: pygments<3.0.0,>=2.13.0 in /usr/local/lib/python3.10/dist-packages (from rich<14,>=10.14.0->streamlit) (2.16.1)\n",
            "Requirement already satisfied: greenlet!=0.4.17 in /usr/local/lib/python3.10/dist-packages (from sqlalchemy>=1.3.0->optuna) (3.0.3)\n",
            "Requirement already satisfied: smmap<6,>=3.0.1 in /usr/local/lib/python3.10/dist-packages (from gitdb<5,>=4.0.1->gitpython!=3.1.19,<4,>=3.0.7->streamlit) (5.0.1)\n",
            "Requirement already satisfied: MarkupSafe>=2.0 in /usr/local/lib/python3.10/dist-packages (from jinja2->altair<6,>=4.0->streamlit) (2.1.4)\n",
            "Requirement already satisfied: attrs>=22.2.0 in /usr/local/lib/python3.10/dist-packages (from jsonschema>=3.0->altair<6,>=4.0->streamlit) (23.2.0)\n",
            "Requirement already satisfied: jsonschema-specifications>=2023.03.6 in /usr/local/lib/python3.10/dist-packages (from jsonschema>=3.0->altair<6,>=4.0->streamlit) (2023.12.1)\n",
            "Requirement already satisfied: referencing>=0.28.4 in /usr/local/lib/python3.10/dist-packages (from jsonschema>=3.0->altair<6,>=4.0->streamlit) (0.33.0)\n",
            "Requirement already satisfied: rpds-py>=0.7.1 in /usr/local/lib/python3.10/dist-packages (from jsonschema>=3.0->altair<6,>=4.0->streamlit) (0.17.1)\n",
            "Requirement already satisfied: mdurl~=0.1 in /usr/local/lib/python3.10/dist-packages (from markdown-it-py>=2.2.0->rich<14,>=10.14.0->streamlit) (0.1.2)\n"
          ]
        }
      ]
    },
    {
      "cell_type": "code",
      "execution_count": 445,
      "metadata": {
        "id": "bk2FFk6Xbos5"
      },
      "outputs": [],
      "source": [
        "import pickle\n",
        "import pandas as pd\n",
        "import numpy as np\n",
        "import matplotlib.pyplot as plt\n",
        "import optuna\n",
        "import streamlit as st\n",
        "\n",
        "from sklearn.preprocessing import OneHotEncoder\n",
        "from sklearn.model_selection import  train_test_split\n",
        "from sklearn.metrics import mean_squared_error as MSE\n",
        "from sklearn.ensemble import RandomForestRegressor\n",
        "from sklearn.model_selection import StratifiedKFold\n",
        "\n",
        "from scipy.stats import zscore\n",
        "\n",
        "import xgboost as xg\n"
      ]
    },
    {
      "cell_type": "markdown",
      "source": [
        "## Data cleaning and preparation"
      ],
      "metadata": {
        "id": "MD-tPkrrItQP"
      }
    },
    {
      "cell_type": "code",
      "source": [
        "url = \"https://raw.githubusercontent.com/Daniel8B/Plovdiv-Real-Estate-Price-Prediction/main/estate_df_upload.csv\"\n",
        "df = pd.read_csv(url)"
      ],
      "metadata": {
        "id": "TlND2hzNb4Cq"
      },
      "execution_count": 446,
      "outputs": []
    },
    {
      "cell_type": "code",
      "source": [
        "df.head()"
      ],
      "metadata": {
        "colab": {
          "base_uri": "https://localhost:8080/",
          "height": 328
        },
        "id": "LrMVpaz-cHxV",
        "outputId": "71abd710-0cf4-4b23-d8fd-f549ad797a30"
      },
      "execution_count": 447,
      "outputs": [
        {
          "output_type": "execute_result",
          "data": {
            "text/plain": [
              "   Unnamed: 0                                              title  \\\n",
              "0           0  ЕКСКЛУЗИВНО!! С АКТ 16!! Двустаен апартамент Х...   \n",
              "1           1  Двустаен апартамент 67 кв.м Панел 1995 г. 5 ет...   \n",
              "2           2  Без комисиона! С АКТ 14! Тристаен апартамент Х...   \n",
              "3           3                           Три отделни стаи Панаира   \n",
              "4           4         ТОП ОФЕРТА! Едностаен апартамент Остромила   \n",
              "\n",
              "            district                             Цена  \\\n",
              "0  Христо Смирненски  104 999 EUR (1 312.49 EUR/кв.м)   \n",
              "1             Изгрев     61 500 EUR (917.91 EUR/кв.м)   \n",
              "2  Христо Смирненски        89 760 EUR (880 EUR/кв.м)   \n",
              "3           Кършияка  101 000 EUR (1 216.87 EUR/кв.м)   \n",
              "4          Остромила        29 520 EUR (720 EUR/кв.м)   \n",
              "\n",
              "                     Вид на имота Квадратура Вид строителство  \\\n",
              "0   Двустаен апартамент в Пловдив    80 кв.м            Тухла   \n",
              "1   Двустаен апартамент в Пловдив    67 кв.м            Панел   \n",
              "2   Тристаен апартамент в Пловдив   102 кв.м            Тухла   \n",
              "3   Тристаен апартамент в Пловдив    83 кв.м            Панел   \n",
              "4  Едностаен апартамент в Пловдив    41 кв.м            Тухла   \n",
              "\n",
              "  Година на строителство Номер на етажа        Етаж Степен на завършеност  \n",
              "0                2021 г.            NaN  Непоследен                   NaN  \n",
              "1                1995 г.         5 етаж  Непоследен                   NaN  \n",
              "2                2023 г.            NaN  Непоследен              В строеж  \n",
              "3                1980 г.            NaN  Непоследен                   NaN  \n",
              "4                2024 г.            NaN  Непоследен              В строеж  "
            ],
            "text/html": [
              "\n",
              "  <div id=\"df-18991b4c-f76c-48a5-9241-cdb29e6855f9\" class=\"colab-df-container\">\n",
              "    <div>\n",
              "<style scoped>\n",
              "    .dataframe tbody tr th:only-of-type {\n",
              "        vertical-align: middle;\n",
              "    }\n",
              "\n",
              "    .dataframe tbody tr th {\n",
              "        vertical-align: top;\n",
              "    }\n",
              "\n",
              "    .dataframe thead th {\n",
              "        text-align: right;\n",
              "    }\n",
              "</style>\n",
              "<table border=\"1\" class=\"dataframe\">\n",
              "  <thead>\n",
              "    <tr style=\"text-align: right;\">\n",
              "      <th></th>\n",
              "      <th>Unnamed: 0</th>\n",
              "      <th>title</th>\n",
              "      <th>district</th>\n",
              "      <th>Цена</th>\n",
              "      <th>Вид на имота</th>\n",
              "      <th>Квадратура</th>\n",
              "      <th>Вид строителство</th>\n",
              "      <th>Година на строителство</th>\n",
              "      <th>Номер на етажа</th>\n",
              "      <th>Етаж</th>\n",
              "      <th>Степен на завършеност</th>\n",
              "    </tr>\n",
              "  </thead>\n",
              "  <tbody>\n",
              "    <tr>\n",
              "      <th>0</th>\n",
              "      <td>0</td>\n",
              "      <td>ЕКСКЛУЗИВНО!! С АКТ 16!! Двустаен апартамент Х...</td>\n",
              "      <td>Христо Смирненски</td>\n",
              "      <td>104 999 EUR (1 312.49 EUR/кв.м)</td>\n",
              "      <td>Двустаен апартамент в Пловдив</td>\n",
              "      <td>80 кв.м</td>\n",
              "      <td>Тухла</td>\n",
              "      <td>2021 г.</td>\n",
              "      <td>NaN</td>\n",
              "      <td>Непоследен</td>\n",
              "      <td>NaN</td>\n",
              "    </tr>\n",
              "    <tr>\n",
              "      <th>1</th>\n",
              "      <td>1</td>\n",
              "      <td>Двустаен апартамент 67 кв.м Панел 1995 г. 5 ет...</td>\n",
              "      <td>Изгрев</td>\n",
              "      <td>61 500 EUR (917.91 EUR/кв.м)</td>\n",
              "      <td>Двустаен апартамент в Пловдив</td>\n",
              "      <td>67 кв.м</td>\n",
              "      <td>Панел</td>\n",
              "      <td>1995 г.</td>\n",
              "      <td>5 етаж</td>\n",
              "      <td>Непоследен</td>\n",
              "      <td>NaN</td>\n",
              "    </tr>\n",
              "    <tr>\n",
              "      <th>2</th>\n",
              "      <td>2</td>\n",
              "      <td>Без комисиона! С АКТ 14! Тристаен апартамент Х...</td>\n",
              "      <td>Христо Смирненски</td>\n",
              "      <td>89 760 EUR (880 EUR/кв.м)</td>\n",
              "      <td>Тристаен апартамент в Пловдив</td>\n",
              "      <td>102 кв.м</td>\n",
              "      <td>Тухла</td>\n",
              "      <td>2023 г.</td>\n",
              "      <td>NaN</td>\n",
              "      <td>Непоследен</td>\n",
              "      <td>В строеж</td>\n",
              "    </tr>\n",
              "    <tr>\n",
              "      <th>3</th>\n",
              "      <td>3</td>\n",
              "      <td>Три отделни стаи Панаира</td>\n",
              "      <td>Кършияка</td>\n",
              "      <td>101 000 EUR (1 216.87 EUR/кв.м)</td>\n",
              "      <td>Тристаен апартамент в Пловдив</td>\n",
              "      <td>83 кв.м</td>\n",
              "      <td>Панел</td>\n",
              "      <td>1980 г.</td>\n",
              "      <td>NaN</td>\n",
              "      <td>Непоследен</td>\n",
              "      <td>NaN</td>\n",
              "    </tr>\n",
              "    <tr>\n",
              "      <th>4</th>\n",
              "      <td>4</td>\n",
              "      <td>ТОП ОФЕРТА! Едностаен апартамент Остромила</td>\n",
              "      <td>Остромила</td>\n",
              "      <td>29 520 EUR (720 EUR/кв.м)</td>\n",
              "      <td>Едностаен апартамент в Пловдив</td>\n",
              "      <td>41 кв.м</td>\n",
              "      <td>Тухла</td>\n",
              "      <td>2024 г.</td>\n",
              "      <td>NaN</td>\n",
              "      <td>Непоследен</td>\n",
              "      <td>В строеж</td>\n",
              "    </tr>\n",
              "  </tbody>\n",
              "</table>\n",
              "</div>\n",
              "    <div class=\"colab-df-buttons\">\n",
              "\n",
              "  <div class=\"colab-df-container\">\n",
              "    <button class=\"colab-df-convert\" onclick=\"convertToInteractive('df-18991b4c-f76c-48a5-9241-cdb29e6855f9')\"\n",
              "            title=\"Convert this dataframe to an interactive table.\"\n",
              "            style=\"display:none;\">\n",
              "\n",
              "  <svg xmlns=\"http://www.w3.org/2000/svg\" height=\"24px\" viewBox=\"0 -960 960 960\">\n",
              "    <path d=\"M120-120v-720h720v720H120Zm60-500h600v-160H180v160Zm220 220h160v-160H400v160Zm0 220h160v-160H400v160ZM180-400h160v-160H180v160Zm440 0h160v-160H620v160ZM180-180h160v-160H180v160Zm440 0h160v-160H620v160Z\"/>\n",
              "  </svg>\n",
              "    </button>\n",
              "\n",
              "  <style>\n",
              "    .colab-df-container {\n",
              "      display:flex;\n",
              "      gap: 12px;\n",
              "    }\n",
              "\n",
              "    .colab-df-convert {\n",
              "      background-color: #E8F0FE;\n",
              "      border: none;\n",
              "      border-radius: 50%;\n",
              "      cursor: pointer;\n",
              "      display: none;\n",
              "      fill: #1967D2;\n",
              "      height: 32px;\n",
              "      padding: 0 0 0 0;\n",
              "      width: 32px;\n",
              "    }\n",
              "\n",
              "    .colab-df-convert:hover {\n",
              "      background-color: #E2EBFA;\n",
              "      box-shadow: 0px 1px 2px rgba(60, 64, 67, 0.3), 0px 1px 3px 1px rgba(60, 64, 67, 0.15);\n",
              "      fill: #174EA6;\n",
              "    }\n",
              "\n",
              "    .colab-df-buttons div {\n",
              "      margin-bottom: 4px;\n",
              "    }\n",
              "\n",
              "    [theme=dark] .colab-df-convert {\n",
              "      background-color: #3B4455;\n",
              "      fill: #D2E3FC;\n",
              "    }\n",
              "\n",
              "    [theme=dark] .colab-df-convert:hover {\n",
              "      background-color: #434B5C;\n",
              "      box-shadow: 0px 1px 3px 1px rgba(0, 0, 0, 0.15);\n",
              "      filter: drop-shadow(0px 1px 2px rgba(0, 0, 0, 0.3));\n",
              "      fill: #FFFFFF;\n",
              "    }\n",
              "  </style>\n",
              "\n",
              "    <script>\n",
              "      const buttonEl =\n",
              "        document.querySelector('#df-18991b4c-f76c-48a5-9241-cdb29e6855f9 button.colab-df-convert');\n",
              "      buttonEl.style.display =\n",
              "        google.colab.kernel.accessAllowed ? 'block' : 'none';\n",
              "\n",
              "      async function convertToInteractive(key) {\n",
              "        const element = document.querySelector('#df-18991b4c-f76c-48a5-9241-cdb29e6855f9');\n",
              "        const dataTable =\n",
              "          await google.colab.kernel.invokeFunction('convertToInteractive',\n",
              "                                                    [key], {});\n",
              "        if (!dataTable) return;\n",
              "\n",
              "        const docLinkHtml = 'Like what you see? Visit the ' +\n",
              "          '<a target=\"_blank\" href=https://colab.research.google.com/notebooks/data_table.ipynb>data table notebook</a>'\n",
              "          + ' to learn more about interactive tables.';\n",
              "        element.innerHTML = '';\n",
              "        dataTable['output_type'] = 'display_data';\n",
              "        await google.colab.output.renderOutput(dataTable, element);\n",
              "        const docLink = document.createElement('div');\n",
              "        docLink.innerHTML = docLinkHtml;\n",
              "        element.appendChild(docLink);\n",
              "      }\n",
              "    </script>\n",
              "  </div>\n",
              "\n",
              "\n",
              "<div id=\"df-d9e65854-3f28-4140-b99f-38b0d01529a9\">\n",
              "  <button class=\"colab-df-quickchart\" onclick=\"quickchart('df-d9e65854-3f28-4140-b99f-38b0d01529a9')\"\n",
              "            title=\"Suggest charts\"\n",
              "            style=\"display:none;\">\n",
              "\n",
              "<svg xmlns=\"http://www.w3.org/2000/svg\" height=\"24px\"viewBox=\"0 0 24 24\"\n",
              "     width=\"24px\">\n",
              "    <g>\n",
              "        <path d=\"M19 3H5c-1.1 0-2 .9-2 2v14c0 1.1.9 2 2 2h14c1.1 0 2-.9 2-2V5c0-1.1-.9-2-2-2zM9 17H7v-7h2v7zm4 0h-2V7h2v10zm4 0h-2v-4h2v4z\"/>\n",
              "    </g>\n",
              "</svg>\n",
              "  </button>\n",
              "\n",
              "<style>\n",
              "  .colab-df-quickchart {\n",
              "      --bg-color: #E8F0FE;\n",
              "      --fill-color: #1967D2;\n",
              "      --hover-bg-color: #E2EBFA;\n",
              "      --hover-fill-color: #174EA6;\n",
              "      --disabled-fill-color: #AAA;\n",
              "      --disabled-bg-color: #DDD;\n",
              "  }\n",
              "\n",
              "  [theme=dark] .colab-df-quickchart {\n",
              "      --bg-color: #3B4455;\n",
              "      --fill-color: #D2E3FC;\n",
              "      --hover-bg-color: #434B5C;\n",
              "      --hover-fill-color: #FFFFFF;\n",
              "      --disabled-bg-color: #3B4455;\n",
              "      --disabled-fill-color: #666;\n",
              "  }\n",
              "\n",
              "  .colab-df-quickchart {\n",
              "    background-color: var(--bg-color);\n",
              "    border: none;\n",
              "    border-radius: 50%;\n",
              "    cursor: pointer;\n",
              "    display: none;\n",
              "    fill: var(--fill-color);\n",
              "    height: 32px;\n",
              "    padding: 0;\n",
              "    width: 32px;\n",
              "  }\n",
              "\n",
              "  .colab-df-quickchart:hover {\n",
              "    background-color: var(--hover-bg-color);\n",
              "    box-shadow: 0 1px 2px rgba(60, 64, 67, 0.3), 0 1px 3px 1px rgba(60, 64, 67, 0.15);\n",
              "    fill: var(--button-hover-fill-color);\n",
              "  }\n",
              "\n",
              "  .colab-df-quickchart-complete:disabled,\n",
              "  .colab-df-quickchart-complete:disabled:hover {\n",
              "    background-color: var(--disabled-bg-color);\n",
              "    fill: var(--disabled-fill-color);\n",
              "    box-shadow: none;\n",
              "  }\n",
              "\n",
              "  .colab-df-spinner {\n",
              "    border: 2px solid var(--fill-color);\n",
              "    border-color: transparent;\n",
              "    border-bottom-color: var(--fill-color);\n",
              "    animation:\n",
              "      spin 1s steps(1) infinite;\n",
              "  }\n",
              "\n",
              "  @keyframes spin {\n",
              "    0% {\n",
              "      border-color: transparent;\n",
              "      border-bottom-color: var(--fill-color);\n",
              "      border-left-color: var(--fill-color);\n",
              "    }\n",
              "    20% {\n",
              "      border-color: transparent;\n",
              "      border-left-color: var(--fill-color);\n",
              "      border-top-color: var(--fill-color);\n",
              "    }\n",
              "    30% {\n",
              "      border-color: transparent;\n",
              "      border-left-color: var(--fill-color);\n",
              "      border-top-color: var(--fill-color);\n",
              "      border-right-color: var(--fill-color);\n",
              "    }\n",
              "    40% {\n",
              "      border-color: transparent;\n",
              "      border-right-color: var(--fill-color);\n",
              "      border-top-color: var(--fill-color);\n",
              "    }\n",
              "    60% {\n",
              "      border-color: transparent;\n",
              "      border-right-color: var(--fill-color);\n",
              "    }\n",
              "    80% {\n",
              "      border-color: transparent;\n",
              "      border-right-color: var(--fill-color);\n",
              "      border-bottom-color: var(--fill-color);\n",
              "    }\n",
              "    90% {\n",
              "      border-color: transparent;\n",
              "      border-bottom-color: var(--fill-color);\n",
              "    }\n",
              "  }\n",
              "</style>\n",
              "\n",
              "  <script>\n",
              "    async function quickchart(key) {\n",
              "      const quickchartButtonEl =\n",
              "        document.querySelector('#' + key + ' button');\n",
              "      quickchartButtonEl.disabled = true;  // To prevent multiple clicks.\n",
              "      quickchartButtonEl.classList.add('colab-df-spinner');\n",
              "      try {\n",
              "        const charts = await google.colab.kernel.invokeFunction(\n",
              "            'suggestCharts', [key], {});\n",
              "      } catch (error) {\n",
              "        console.error('Error during call to suggestCharts:', error);\n",
              "      }\n",
              "      quickchartButtonEl.classList.remove('colab-df-spinner');\n",
              "      quickchartButtonEl.classList.add('colab-df-quickchart-complete');\n",
              "    }\n",
              "    (() => {\n",
              "      let quickchartButtonEl =\n",
              "        document.querySelector('#df-d9e65854-3f28-4140-b99f-38b0d01529a9 button');\n",
              "      quickchartButtonEl.style.display =\n",
              "        google.colab.kernel.accessAllowed ? 'block' : 'none';\n",
              "    })();\n",
              "  </script>\n",
              "</div>\n",
              "    </div>\n",
              "  </div>\n"
            ]
          },
          "metadata": {},
          "execution_count": 447
        }
      ]
    },
    {
      "cell_type": "code",
      "source": [
        "#Drop the index and \"title\" columns\n",
        "df.drop(['Unnamed: 0', 'title'], axis=1, inplace=True)"
      ],
      "metadata": {
        "id": "E7n7TbJJcIcc"
      },
      "execution_count": 448,
      "outputs": []
    },
    {
      "cell_type": "code",
      "source": [
        "# Rename the columns to English\n",
        "\n",
        "new_cols = {\"Цена\":\"price\", \"Вид на имота\": \"apartment type\",\n",
        "            \"Квадратура\": \"square meters\",\n",
        "            \"Вид строителство\": \"construction type\",\n",
        "            \"Година на строителство\": \"construction year\",\n",
        "            \"Номер на етажа\": \"floor number\",\n",
        "            \"Етаж\": \"floor\", \"Степен на завършеност\": \"level of completion\"}\n",
        "\n",
        "df.rename(columns=new_cols, inplace=True)"
      ],
      "metadata": {
        "id": "vsqxfb4HA6L6"
      },
      "execution_count": 449,
      "outputs": []
    },
    {
      "cell_type": "code",
      "source": [
        "# Remove all white spaces from the values in each column\n",
        "for col in df.columns:\n",
        "  df[col] = df[col].str.strip()"
      ],
      "metadata": {
        "id": "o_7Ya82nduQx"
      },
      "execution_count": 450,
      "outputs": []
    },
    {
      "cell_type": "code",
      "source": [
        "df.shape"
      ],
      "metadata": {
        "colab": {
          "base_uri": "https://localhost:8080/"
        },
        "id": "iTuxR9GWdwg3",
        "outputId": "b16df600-9f20-4aff-bf94-62690bc3f439"
      },
      "execution_count": 451,
      "outputs": [
        {
          "output_type": "execute_result",
          "data": {
            "text/plain": [
              "(16163, 9)"
            ]
          },
          "metadata": {},
          "execution_count": 451
        }
      ]
    },
    {
      "cell_type": "code",
      "source": [
        "df.info()"
      ],
      "metadata": {
        "colab": {
          "base_uri": "https://localhost:8080/"
        },
        "id": "UGdBIKoK-LQD",
        "outputId": "27a6295a-4c63-4b25-fb18-99d25fb8409c"
      },
      "execution_count": 452,
      "outputs": [
        {
          "output_type": "stream",
          "name": "stdout",
          "text": [
            "<class 'pandas.core.frame.DataFrame'>\n",
            "RangeIndex: 16163 entries, 0 to 16162\n",
            "Data columns (total 9 columns):\n",
            " #   Column               Non-Null Count  Dtype \n",
            "---  ------               --------------  ----- \n",
            " 0   district             16163 non-null  object\n",
            " 1   price                16004 non-null  object\n",
            " 2   apartment type       16163 non-null  object\n",
            " 3   square meters        16163 non-null  object\n",
            " 4   construction type    16163 non-null  object\n",
            " 5   construction year    14916 non-null  object\n",
            " 6   floor number         13285 non-null  object\n",
            " 7   floor                15436 non-null  object\n",
            " 8   level of completion  6090 non-null   object\n",
            "dtypes: object(9)\n",
            "memory usage: 1.1+ MB\n"
          ]
        }
      ]
    },
    {
      "cell_type": "code",
      "source": [
        "print(f'Percentage of missing values in the`construction year`column: {(df[\"construction year\"].isna().sum()/len(df[\"construction year\"])*100):.2f}%')"
      ],
      "metadata": {
        "colab": {
          "base_uri": "https://localhost:8080/"
        },
        "id": "FACQdDyNOEvO",
        "outputId": "7dfbcfc4-e208-4f9f-f51c-e62a1556913e"
      },
      "execution_count": 453,
      "outputs": [
        {
          "output_type": "stream",
          "name": "stdout",
          "text": [
            "Percentage of missing values in the`construction year`column: 7.72%\n"
          ]
        }
      ]
    },
    {
      "cell_type": "markdown",
      "source": [
        "Drop the missing values from `construction year`.\n",
        "\n",
        "Given that the year of construction is a major factor in determining price and there is no straightforward way to infer the year of a building by other data values, we will drop them.\n",
        "\n",
        "Also, the missing values are 7.72% of all entries so we can afford to drop them.\n",
        "<hr>\n",
        "\n",
        "Drop the missing values in `price`."
      ],
      "metadata": {
        "id": "VnmC7DLwNjuI"
      }
    },
    {
      "cell_type": "code",
      "source": [
        "df.dropna(subset=[\"construction year\", \"price\"],inplace=True)"
      ],
      "metadata": {
        "id": "eI9QY1X0PLql"
      },
      "execution_count": 454,
      "outputs": []
    },
    {
      "cell_type": "code",
      "source": [
        "df.shape"
      ],
      "metadata": {
        "colab": {
          "base_uri": "https://localhost:8080/"
        },
        "id": "ayz1sVuqPRpD",
        "outputId": "2b247e78-14a7-4172-d1f6-f3a72b6a1902"
      },
      "execution_count": 455,
      "outputs": [
        {
          "output_type": "execute_result",
          "data": {
            "text/plain": [
              "(14771, 9)"
            ]
          },
          "metadata": {},
          "execution_count": 455
        }
      ]
    },
    {
      "cell_type": "code",
      "source": [
        "df.info()"
      ],
      "metadata": {
        "colab": {
          "base_uri": "https://localhost:8080/"
        },
        "id": "TVtpDlRUPjR3",
        "outputId": "31f07203-68fd-42ab-c1b3-8079f53a7b4d"
      },
      "execution_count": 456,
      "outputs": [
        {
          "output_type": "stream",
          "name": "stdout",
          "text": [
            "<class 'pandas.core.frame.DataFrame'>\n",
            "Int64Index: 14771 entries, 0 to 16160\n",
            "Data columns (total 9 columns):\n",
            " #   Column               Non-Null Count  Dtype \n",
            "---  ------               --------------  ----- \n",
            " 0   district             14771 non-null  object\n",
            " 1   price                14771 non-null  object\n",
            " 2   apartment type       14771 non-null  object\n",
            " 3   square meters        14771 non-null  object\n",
            " 4   construction type    14771 non-null  object\n",
            " 5   construction year    14771 non-null  object\n",
            " 6   floor number         11929 non-null  object\n",
            " 7   floor                14407 non-null  object\n",
            " 8   level of completion  5711 non-null   object\n",
            "dtypes: object(9)\n",
            "memory usage: 1.1+ MB\n"
          ]
        }
      ]
    },
    {
      "cell_type": "markdown",
      "source": [
        "## Prepare `floor number`, `floor` and `level of completion` columns"
      ],
      "metadata": {
        "id": "hYINYVimaP-d"
      }
    },
    {
      "cell_type": "code",
      "source": [
        "df[\"floor number\"].value_counts()"
      ],
      "metadata": {
        "colab": {
          "base_uri": "https://localhost:8080/"
        },
        "id": "L8-1MHJnJbGH",
        "outputId": "d7d42441-4dc1-4b96-8c85-e6e000309b4b"
      },
      "execution_count": 457,
      "outputs": [
        {
          "output_type": "execute_result",
          "data": {
            "text/plain": [
              "2 етаж      2317\n",
              "3 етаж      2186\n",
              "4 етаж      1783\n",
              "5 етаж      1658\n",
              "1 етаж      1206\n",
              "6 етаж      1019\n",
              "7 етаж       588\n",
              "8 етаж       450\n",
              "9 етаж       283\n",
              "10 етаж      135\n",
              "11 етаж      111\n",
              "12 етаж       58\n",
              "14 етаж       37\n",
              "13 етаж       31\n",
              "15 етаж       27\n",
              "16 етаж       19\n",
              "17 етаж        9\n",
              "18 етаж        4\n",
              "19 етаж        2\n",
              "72 етаж        1\n",
              "64 етаж        1\n",
              "2.3 етаж       1\n",
              "68 етаж        1\n",
              "22 етаж        1\n",
              "69 етаж        1\n",
              "Name: floor number, dtype: int64"
            ]
          },
          "metadata": {},
          "execution_count": 457
        }
      ]
    },
    {
      "cell_type": "code",
      "source": [
        "def floor_number_rework(df):\n",
        "\n",
        "  # Find the median floor number\n",
        "  median_floor = df[~df[\"floor number\"].isna()][\"floor number\"].str.split(\" \").str[0].median()\n",
        "\n",
        "  # Create a variable with the new floor numbers\n",
        "  floor_numbers = df[\"floor number\"].str.split(\" \").str[0].fillna(median_floor)\n",
        "\n",
        "  # Edit the floor values\n",
        "  df.loc[floor_numbers.index, \"floor number\"] = floor_numbers.values\n",
        "\n",
        "  # Change the only float value to the closest int\n",
        "  df.loc[df[df[\"floor number\"] == \"2.3\"][\"floor number\"].index, \"floor number\"] = 2\n",
        "\n",
        "  # Since we don't have floats anymore, we can change the column type to int\n",
        "  df[\"floor number\"] = df[\"floor number\"].astype(int)\n",
        "\n",
        "  # Set all floors above 20 to the median value\n",
        "  df.loc[df[\"floor number\"] > 20,\"floor number\"] = 4\n",
        "\n",
        "  return df"
      ],
      "metadata": {
        "id": "8zTyqeGSaTsK"
      },
      "execution_count": 458,
      "outputs": []
    },
    {
      "cell_type": "code",
      "source": [
        "floor_number_rework(df)"
      ],
      "metadata": {
        "colab": {
          "base_uri": "https://localhost:8080/",
          "height": 424
        },
        "id": "MdSLMNT7dD-b",
        "outputId": "f74433c3-f1bc-4892-c054-01a51472edb4"
      },
      "execution_count": 459,
      "outputs": [
        {
          "output_type": "execute_result",
          "data": {
            "text/plain": [
              "                district                            price  \\\n",
              "0      Христо Смирненски  104 999 EUR (1 312.49 EUR/кв.м)   \n",
              "1                 Изгрев     61 500 EUR (917.91 EUR/кв.м)   \n",
              "2      Христо Смирненски        89 760 EUR (880 EUR/кв.м)   \n",
              "3               Кършияка  101 000 EUR (1 216.87 EUR/кв.м)   \n",
              "4              Остромила        29 520 EUR (720 EUR/кв.м)   \n",
              "...                  ...                              ...   \n",
              "16154           Кършияка     212 865 EUR (1 663 EUR/кв.м)   \n",
              "16155           Кършияка  102 062 EUR (1 673.15 EUR/кв.м)   \n",
              "16156  Христо Смирненски     111 300 EUR (1 050 EUR/кв.м)   \n",
              "16159  Христо Смирненски   61 000 EUR (1 244.90 EUR/кв.м)   \n",
              "16160  Христо Смирненски      54 800 EUR (1 370 EUR/кв.м)   \n",
              "\n",
              "                       apartment type square meters construction type  \\\n",
              "0       Двустаен апартамент в Пловдив       80 кв.м             Тухла   \n",
              "1       Двустаен апартамент в Пловдив       67 кв.м             Панел   \n",
              "2       Тристаен апартамент в Пловдив      102 кв.м             Тухла   \n",
              "3       Тристаен апартамент в Пловдив       83 кв.м             Панел   \n",
              "4      Едностаен апартамент в Пловдив       41 кв.м             Тухла   \n",
              "...                               ...           ...               ...   \n",
              "16154   Тристаен апартамент в Пловдив      128 кв.м             Тухла   \n",
              "16155  Едностаен апартамент в Пловдив       61 кв.м             Тухла   \n",
              "16156   Тристаен апартамент в Пловдив      106 кв.м             Тухла   \n",
              "16159  Едностаен апартамент в Пловдив       49 кв.м             Тухла   \n",
              "16160  Едностаен апартамент в Пловдив       40 кв.м             Тухла   \n",
              "\n",
              "      construction year  floor number       floor level of completion  \n",
              "0               2021 г.             4  Непоследен                 NaN  \n",
              "1               1995 г.             5  Непоследен                 NaN  \n",
              "2               2023 г.             4  Непоследен            В строеж  \n",
              "3               1980 г.             4  Непоследен                 NaN  \n",
              "4               2024 г.             4  Непоследен            В строеж  \n",
              "...                 ...           ...         ...                 ...  \n",
              "16154           2022 г.             3         NaN            В строеж  \n",
              "16155           2022 г.             3         NaN            В строеж  \n",
              "16156           2021 г.             3         NaN                 NaN  \n",
              "16159           2021 г.             3         NaN            В строеж  \n",
              "16160           2021 г.             3         NaN            В строеж  \n",
              "\n",
              "[14771 rows x 9 columns]"
            ],
            "text/html": [
              "\n",
              "  <div id=\"df-bb217194-f468-4645-a280-1af1eda14fa7\" class=\"colab-df-container\">\n",
              "    <div>\n",
              "<style scoped>\n",
              "    .dataframe tbody tr th:only-of-type {\n",
              "        vertical-align: middle;\n",
              "    }\n",
              "\n",
              "    .dataframe tbody tr th {\n",
              "        vertical-align: top;\n",
              "    }\n",
              "\n",
              "    .dataframe thead th {\n",
              "        text-align: right;\n",
              "    }\n",
              "</style>\n",
              "<table border=\"1\" class=\"dataframe\">\n",
              "  <thead>\n",
              "    <tr style=\"text-align: right;\">\n",
              "      <th></th>\n",
              "      <th>district</th>\n",
              "      <th>price</th>\n",
              "      <th>apartment type</th>\n",
              "      <th>square meters</th>\n",
              "      <th>construction type</th>\n",
              "      <th>construction year</th>\n",
              "      <th>floor number</th>\n",
              "      <th>floor</th>\n",
              "      <th>level of completion</th>\n",
              "    </tr>\n",
              "  </thead>\n",
              "  <tbody>\n",
              "    <tr>\n",
              "      <th>0</th>\n",
              "      <td>Христо Смирненски</td>\n",
              "      <td>104 999 EUR (1 312.49 EUR/кв.м)</td>\n",
              "      <td>Двустаен апартамент в Пловдив</td>\n",
              "      <td>80 кв.м</td>\n",
              "      <td>Тухла</td>\n",
              "      <td>2021 г.</td>\n",
              "      <td>4</td>\n",
              "      <td>Непоследен</td>\n",
              "      <td>NaN</td>\n",
              "    </tr>\n",
              "    <tr>\n",
              "      <th>1</th>\n",
              "      <td>Изгрев</td>\n",
              "      <td>61 500 EUR (917.91 EUR/кв.м)</td>\n",
              "      <td>Двустаен апартамент в Пловдив</td>\n",
              "      <td>67 кв.м</td>\n",
              "      <td>Панел</td>\n",
              "      <td>1995 г.</td>\n",
              "      <td>5</td>\n",
              "      <td>Непоследен</td>\n",
              "      <td>NaN</td>\n",
              "    </tr>\n",
              "    <tr>\n",
              "      <th>2</th>\n",
              "      <td>Христо Смирненски</td>\n",
              "      <td>89 760 EUR (880 EUR/кв.м)</td>\n",
              "      <td>Тристаен апартамент в Пловдив</td>\n",
              "      <td>102 кв.м</td>\n",
              "      <td>Тухла</td>\n",
              "      <td>2023 г.</td>\n",
              "      <td>4</td>\n",
              "      <td>Непоследен</td>\n",
              "      <td>В строеж</td>\n",
              "    </tr>\n",
              "    <tr>\n",
              "      <th>3</th>\n",
              "      <td>Кършияка</td>\n",
              "      <td>101 000 EUR (1 216.87 EUR/кв.м)</td>\n",
              "      <td>Тристаен апартамент в Пловдив</td>\n",
              "      <td>83 кв.м</td>\n",
              "      <td>Панел</td>\n",
              "      <td>1980 г.</td>\n",
              "      <td>4</td>\n",
              "      <td>Непоследен</td>\n",
              "      <td>NaN</td>\n",
              "    </tr>\n",
              "    <tr>\n",
              "      <th>4</th>\n",
              "      <td>Остромила</td>\n",
              "      <td>29 520 EUR (720 EUR/кв.м)</td>\n",
              "      <td>Едностаен апартамент в Пловдив</td>\n",
              "      <td>41 кв.м</td>\n",
              "      <td>Тухла</td>\n",
              "      <td>2024 г.</td>\n",
              "      <td>4</td>\n",
              "      <td>Непоследен</td>\n",
              "      <td>В строеж</td>\n",
              "    </tr>\n",
              "    <tr>\n",
              "      <th>...</th>\n",
              "      <td>...</td>\n",
              "      <td>...</td>\n",
              "      <td>...</td>\n",
              "      <td>...</td>\n",
              "      <td>...</td>\n",
              "      <td>...</td>\n",
              "      <td>...</td>\n",
              "      <td>...</td>\n",
              "      <td>...</td>\n",
              "    </tr>\n",
              "    <tr>\n",
              "      <th>16154</th>\n",
              "      <td>Кършияка</td>\n",
              "      <td>212 865 EUR (1 663 EUR/кв.м)</td>\n",
              "      <td>Тристаен апартамент в Пловдив</td>\n",
              "      <td>128 кв.м</td>\n",
              "      <td>Тухла</td>\n",
              "      <td>2022 г.</td>\n",
              "      <td>3</td>\n",
              "      <td>NaN</td>\n",
              "      <td>В строеж</td>\n",
              "    </tr>\n",
              "    <tr>\n",
              "      <th>16155</th>\n",
              "      <td>Кършияка</td>\n",
              "      <td>102 062 EUR (1 673.15 EUR/кв.м)</td>\n",
              "      <td>Едностаен апартамент в Пловдив</td>\n",
              "      <td>61 кв.м</td>\n",
              "      <td>Тухла</td>\n",
              "      <td>2022 г.</td>\n",
              "      <td>3</td>\n",
              "      <td>NaN</td>\n",
              "      <td>В строеж</td>\n",
              "    </tr>\n",
              "    <tr>\n",
              "      <th>16156</th>\n",
              "      <td>Христо Смирненски</td>\n",
              "      <td>111 300 EUR (1 050 EUR/кв.м)</td>\n",
              "      <td>Тристаен апартамент в Пловдив</td>\n",
              "      <td>106 кв.м</td>\n",
              "      <td>Тухла</td>\n",
              "      <td>2021 г.</td>\n",
              "      <td>3</td>\n",
              "      <td>NaN</td>\n",
              "      <td>NaN</td>\n",
              "    </tr>\n",
              "    <tr>\n",
              "      <th>16159</th>\n",
              "      <td>Христо Смирненски</td>\n",
              "      <td>61 000 EUR (1 244.90 EUR/кв.м)</td>\n",
              "      <td>Едностаен апартамент в Пловдив</td>\n",
              "      <td>49 кв.м</td>\n",
              "      <td>Тухла</td>\n",
              "      <td>2021 г.</td>\n",
              "      <td>3</td>\n",
              "      <td>NaN</td>\n",
              "      <td>В строеж</td>\n",
              "    </tr>\n",
              "    <tr>\n",
              "      <th>16160</th>\n",
              "      <td>Христо Смирненски</td>\n",
              "      <td>54 800 EUR (1 370 EUR/кв.м)</td>\n",
              "      <td>Едностаен апартамент в Пловдив</td>\n",
              "      <td>40 кв.м</td>\n",
              "      <td>Тухла</td>\n",
              "      <td>2021 г.</td>\n",
              "      <td>3</td>\n",
              "      <td>NaN</td>\n",
              "      <td>В строеж</td>\n",
              "    </tr>\n",
              "  </tbody>\n",
              "</table>\n",
              "<p>14771 rows × 9 columns</p>\n",
              "</div>\n",
              "    <div class=\"colab-df-buttons\">\n",
              "\n",
              "  <div class=\"colab-df-container\">\n",
              "    <button class=\"colab-df-convert\" onclick=\"convertToInteractive('df-bb217194-f468-4645-a280-1af1eda14fa7')\"\n",
              "            title=\"Convert this dataframe to an interactive table.\"\n",
              "            style=\"display:none;\">\n",
              "\n",
              "  <svg xmlns=\"http://www.w3.org/2000/svg\" height=\"24px\" viewBox=\"0 -960 960 960\">\n",
              "    <path d=\"M120-120v-720h720v720H120Zm60-500h600v-160H180v160Zm220 220h160v-160H400v160Zm0 220h160v-160H400v160ZM180-400h160v-160H180v160Zm440 0h160v-160H620v160ZM180-180h160v-160H180v160Zm440 0h160v-160H620v160Z\"/>\n",
              "  </svg>\n",
              "    </button>\n",
              "\n",
              "  <style>\n",
              "    .colab-df-container {\n",
              "      display:flex;\n",
              "      gap: 12px;\n",
              "    }\n",
              "\n",
              "    .colab-df-convert {\n",
              "      background-color: #E8F0FE;\n",
              "      border: none;\n",
              "      border-radius: 50%;\n",
              "      cursor: pointer;\n",
              "      display: none;\n",
              "      fill: #1967D2;\n",
              "      height: 32px;\n",
              "      padding: 0 0 0 0;\n",
              "      width: 32px;\n",
              "    }\n",
              "\n",
              "    .colab-df-convert:hover {\n",
              "      background-color: #E2EBFA;\n",
              "      box-shadow: 0px 1px 2px rgba(60, 64, 67, 0.3), 0px 1px 3px 1px rgba(60, 64, 67, 0.15);\n",
              "      fill: #174EA6;\n",
              "    }\n",
              "\n",
              "    .colab-df-buttons div {\n",
              "      margin-bottom: 4px;\n",
              "    }\n",
              "\n",
              "    [theme=dark] .colab-df-convert {\n",
              "      background-color: #3B4455;\n",
              "      fill: #D2E3FC;\n",
              "    }\n",
              "\n",
              "    [theme=dark] .colab-df-convert:hover {\n",
              "      background-color: #434B5C;\n",
              "      box-shadow: 0px 1px 3px 1px rgba(0, 0, 0, 0.15);\n",
              "      filter: drop-shadow(0px 1px 2px rgba(0, 0, 0, 0.3));\n",
              "      fill: #FFFFFF;\n",
              "    }\n",
              "  </style>\n",
              "\n",
              "    <script>\n",
              "      const buttonEl =\n",
              "        document.querySelector('#df-bb217194-f468-4645-a280-1af1eda14fa7 button.colab-df-convert');\n",
              "      buttonEl.style.display =\n",
              "        google.colab.kernel.accessAllowed ? 'block' : 'none';\n",
              "\n",
              "      async function convertToInteractive(key) {\n",
              "        const element = document.querySelector('#df-bb217194-f468-4645-a280-1af1eda14fa7');\n",
              "        const dataTable =\n",
              "          await google.colab.kernel.invokeFunction('convertToInteractive',\n",
              "                                                    [key], {});\n",
              "        if (!dataTable) return;\n",
              "\n",
              "        const docLinkHtml = 'Like what you see? Visit the ' +\n",
              "          '<a target=\"_blank\" href=https://colab.research.google.com/notebooks/data_table.ipynb>data table notebook</a>'\n",
              "          + ' to learn more about interactive tables.';\n",
              "        element.innerHTML = '';\n",
              "        dataTable['output_type'] = 'display_data';\n",
              "        await google.colab.output.renderOutput(dataTable, element);\n",
              "        const docLink = document.createElement('div');\n",
              "        docLink.innerHTML = docLinkHtml;\n",
              "        element.appendChild(docLink);\n",
              "      }\n",
              "    </script>\n",
              "  </div>\n",
              "\n",
              "\n",
              "<div id=\"df-cde37001-be7a-4267-aefc-5d925a784821\">\n",
              "  <button class=\"colab-df-quickchart\" onclick=\"quickchart('df-cde37001-be7a-4267-aefc-5d925a784821')\"\n",
              "            title=\"Suggest charts\"\n",
              "            style=\"display:none;\">\n",
              "\n",
              "<svg xmlns=\"http://www.w3.org/2000/svg\" height=\"24px\"viewBox=\"0 0 24 24\"\n",
              "     width=\"24px\">\n",
              "    <g>\n",
              "        <path d=\"M19 3H5c-1.1 0-2 .9-2 2v14c0 1.1.9 2 2 2h14c1.1 0 2-.9 2-2V5c0-1.1-.9-2-2-2zM9 17H7v-7h2v7zm4 0h-2V7h2v10zm4 0h-2v-4h2v4z\"/>\n",
              "    </g>\n",
              "</svg>\n",
              "  </button>\n",
              "\n",
              "<style>\n",
              "  .colab-df-quickchart {\n",
              "      --bg-color: #E8F0FE;\n",
              "      --fill-color: #1967D2;\n",
              "      --hover-bg-color: #E2EBFA;\n",
              "      --hover-fill-color: #174EA6;\n",
              "      --disabled-fill-color: #AAA;\n",
              "      --disabled-bg-color: #DDD;\n",
              "  }\n",
              "\n",
              "  [theme=dark] .colab-df-quickchart {\n",
              "      --bg-color: #3B4455;\n",
              "      --fill-color: #D2E3FC;\n",
              "      --hover-bg-color: #434B5C;\n",
              "      --hover-fill-color: #FFFFFF;\n",
              "      --disabled-bg-color: #3B4455;\n",
              "      --disabled-fill-color: #666;\n",
              "  }\n",
              "\n",
              "  .colab-df-quickchart {\n",
              "    background-color: var(--bg-color);\n",
              "    border: none;\n",
              "    border-radius: 50%;\n",
              "    cursor: pointer;\n",
              "    display: none;\n",
              "    fill: var(--fill-color);\n",
              "    height: 32px;\n",
              "    padding: 0;\n",
              "    width: 32px;\n",
              "  }\n",
              "\n",
              "  .colab-df-quickchart:hover {\n",
              "    background-color: var(--hover-bg-color);\n",
              "    box-shadow: 0 1px 2px rgba(60, 64, 67, 0.3), 0 1px 3px 1px rgba(60, 64, 67, 0.15);\n",
              "    fill: var(--button-hover-fill-color);\n",
              "  }\n",
              "\n",
              "  .colab-df-quickchart-complete:disabled,\n",
              "  .colab-df-quickchart-complete:disabled:hover {\n",
              "    background-color: var(--disabled-bg-color);\n",
              "    fill: var(--disabled-fill-color);\n",
              "    box-shadow: none;\n",
              "  }\n",
              "\n",
              "  .colab-df-spinner {\n",
              "    border: 2px solid var(--fill-color);\n",
              "    border-color: transparent;\n",
              "    border-bottom-color: var(--fill-color);\n",
              "    animation:\n",
              "      spin 1s steps(1) infinite;\n",
              "  }\n",
              "\n",
              "  @keyframes spin {\n",
              "    0% {\n",
              "      border-color: transparent;\n",
              "      border-bottom-color: var(--fill-color);\n",
              "      border-left-color: var(--fill-color);\n",
              "    }\n",
              "    20% {\n",
              "      border-color: transparent;\n",
              "      border-left-color: var(--fill-color);\n",
              "      border-top-color: var(--fill-color);\n",
              "    }\n",
              "    30% {\n",
              "      border-color: transparent;\n",
              "      border-left-color: var(--fill-color);\n",
              "      border-top-color: var(--fill-color);\n",
              "      border-right-color: var(--fill-color);\n",
              "    }\n",
              "    40% {\n",
              "      border-color: transparent;\n",
              "      border-right-color: var(--fill-color);\n",
              "      border-top-color: var(--fill-color);\n",
              "    }\n",
              "    60% {\n",
              "      border-color: transparent;\n",
              "      border-right-color: var(--fill-color);\n",
              "    }\n",
              "    80% {\n",
              "      border-color: transparent;\n",
              "      border-right-color: var(--fill-color);\n",
              "      border-bottom-color: var(--fill-color);\n",
              "    }\n",
              "    90% {\n",
              "      border-color: transparent;\n",
              "      border-bottom-color: var(--fill-color);\n",
              "    }\n",
              "  }\n",
              "</style>\n",
              "\n",
              "  <script>\n",
              "    async function quickchart(key) {\n",
              "      const quickchartButtonEl =\n",
              "        document.querySelector('#' + key + ' button');\n",
              "      quickchartButtonEl.disabled = true;  // To prevent multiple clicks.\n",
              "      quickchartButtonEl.classList.add('colab-df-spinner');\n",
              "      try {\n",
              "        const charts = await google.colab.kernel.invokeFunction(\n",
              "            'suggestCharts', [key], {});\n",
              "      } catch (error) {\n",
              "        console.error('Error during call to suggestCharts:', error);\n",
              "      }\n",
              "      quickchartButtonEl.classList.remove('colab-df-spinner');\n",
              "      quickchartButtonEl.classList.add('colab-df-quickchart-complete');\n",
              "    }\n",
              "    (() => {\n",
              "      let quickchartButtonEl =\n",
              "        document.querySelector('#df-cde37001-be7a-4267-aefc-5d925a784821 button');\n",
              "      quickchartButtonEl.style.display =\n",
              "        google.colab.kernel.accessAllowed ? 'block' : 'none';\n",
              "    })();\n",
              "  </script>\n",
              "</div>\n",
              "    </div>\n",
              "  </div>\n"
            ]
          },
          "metadata": {},
          "execution_count": 459
        }
      ]
    },
    {
      "cell_type": "markdown",
      "source": [
        "There are only a few building is Plovdiv with over 20 floor and they are hotels, the highest of which has 24 floors so everything above is either error or irrelevant.\n",
        "\n",
        "Filling the missing `floor number` with median might not be the best approach but is the fastest in order to start exploring a prediction model. On a later stage, we can try removing he missing floor values or trying to infer them and see if the model performance changes"
      ],
      "metadata": {
        "id": "8xqsUxUIZRb_"
      }
    },
    {
      "cell_type": "code",
      "source": [
        "df[\"floor\"].value_counts()"
      ],
      "metadata": {
        "colab": {
          "base_uri": "https://localhost:8080/"
        },
        "id": "wcqFTQifQbwd",
        "outputId": "88d3c750-91df-409d-ec58-3d390e83629b"
      },
      "execution_count": 460,
      "outputs": [
        {
          "output_type": "execute_result",
          "data": {
            "text/plain": [
              "Непоследен                     11049\n",
              "Последен етаж                   2132\n",
              "Първи жилищен                    967\n",
              "Партер                           240\n",
              "Мансарда/Таванско помещение       17\n",
              "Сутерен                            2\n",
              "Name: floor, dtype: int64"
            ]
          },
          "metadata": {},
          "execution_count": 460
        }
      ]
    },
    {
      "cell_type": "code",
      "source": [
        "floor_rename = {\"Непоследен\": \"Not last\",\n",
        "                \"Последен етаж\": \"Last\",\n",
        "                \"Първи жилищен\": \"First\",\n",
        "                \"Партер\": \"Ground floor\",\n",
        "                \"Мансарда/Таванско помещение\": \"Attic\",\n",
        "                \"Сутерен\": \"Basement\"}\n",
        "\n",
        "df[\"floor\"] = df[\"floor\"].replace(floor_rename)"
      ],
      "metadata": {
        "id": "wmrhTl4MUKJ9"
      },
      "execution_count": 461,
      "outputs": []
    },
    {
      "cell_type": "code",
      "source": [
        "df[\"floor\"] = df[\"floor\"].fillna(\"Unknown\")"
      ],
      "metadata": {
        "id": "KpHmDHy3dM29"
      },
      "execution_count": 462,
      "outputs": []
    },
    {
      "cell_type": "code",
      "source": [
        "df[\"floor\"].value_counts()"
      ],
      "metadata": {
        "colab": {
          "base_uri": "https://localhost:8080/"
        },
        "id": "UkI-OfBydTzM",
        "outputId": "76c9f215-7c24-4a98-e318-e1da6372a5fc"
      },
      "execution_count": 463,
      "outputs": [
        {
          "output_type": "execute_result",
          "data": {
            "text/plain": [
              "Not last        11049\n",
              "Last             2132\n",
              "First             967\n",
              "Unknown           364\n",
              "Ground floor      240\n",
              "Attic              17\n",
              "Basement            2\n",
              "Name: floor, dtype: int64"
            ]
          },
          "metadata": {},
          "execution_count": 463
        }
      ]
    },
    {
      "cell_type": "code",
      "source": [
        "df[\"level of completion\"].value_counts()"
      ],
      "metadata": {
        "colab": {
          "base_uri": "https://localhost:8080/"
        },
        "id": "h_Cns6MOQcvz",
        "outputId": "9cd48fa6-ba1d-4436-cc38-4173cc684123"
      },
      "execution_count": 464,
      "outputs": [
        {
          "output_type": "execute_result",
          "data": {
            "text/plain": [
              "В строеж    5661\n",
              "В проект      50\n",
              "Name: level of completion, dtype: int64"
            ]
          },
          "metadata": {},
          "execution_count": 464
        }
      ]
    },
    {
      "cell_type": "code",
      "source": [
        "level_oc_rename = {\"В строеж\": \"In construction\",\n",
        "                   \"В проект\": \"In a project\"}\n",
        "\n",
        "df[\"level of completion\"] = df[\"level of completion\"].replace(level_oc_rename)"
      ],
      "metadata": {
        "id": "wlTJ0LdXUqKM"
      },
      "execution_count": 465,
      "outputs": []
    },
    {
      "cell_type": "code",
      "source": [
        "df[\"level of completion\"] = df[\"level of completion\"].fillna(\"Not specified\")"
      ],
      "metadata": {
        "id": "lKERZ5S1dfbQ"
      },
      "execution_count": 466,
      "outputs": []
    },
    {
      "cell_type": "code",
      "source": [
        "df['construction type'].unique()"
      ],
      "metadata": {
        "colab": {
          "base_uri": "https://localhost:8080/"
        },
        "id": "XpsLUEjNozwR",
        "outputId": "f2d6ab28-0378-4130-e5a6-620c93960ab6"
      },
      "execution_count": 467,
      "outputs": [
        {
          "output_type": "execute_result",
          "data": {
            "text/plain": [
              "array(['Тухла', 'Панел', 'ЕПК/ПК', 'Гредоред'], dtype=object)"
            ]
          },
          "metadata": {},
          "execution_count": 467
        }
      ]
    },
    {
      "cell_type": "code",
      "source": [
        "construction_type_rename = {'Тухла': 'Bricks',\n",
        "                            'Панел': ' Panel',\n",
        "                            'ЕПК/ПК': 'Formwork',\n",
        "                            'Гредоред': 'Joist'}\n",
        "\n",
        "df['construction type'] = df['construction type'].replace(construction_type_rename)"
      ],
      "metadata": {
        "id": "45GQgnRmo72M"
      },
      "execution_count": 468,
      "outputs": []
    },
    {
      "cell_type": "code",
      "source": [
        "df['apartment type'].unique()"
      ],
      "metadata": {
        "colab": {
          "base_uri": "https://localhost:8080/"
        },
        "id": "Fd6YlLbTprL9",
        "outputId": "9daba744-7583-4e60-9fb5-bec53c445ff1"
      },
      "execution_count": 469,
      "outputs": [
        {
          "output_type": "execute_result",
          "data": {
            "text/plain": [
              "array(['Двустаен апартамент в Пловдив', 'Тристаен апартамент в Пловдив',\n",
              "       'Едностаен апартамент в Пловдив',\n",
              "       'Многостаен апартамент в Пловдив', 'Мезонет', 'Ателие/Студио'],\n",
              "      dtype=object)"
            ]
          },
          "metadata": {},
          "execution_count": 469
        }
      ]
    },
    {
      "cell_type": "code",
      "source": [
        "apartment_type_rename = {'Едностаен апартамент в Пловдив': 'One room apartment',\n",
        "                            'Ателие/Студио': 'Studio',\n",
        "                            'Двустаен апартамент в Пловдив': 'Two-room apartment',\n",
        "                            'Тристаен апартамент в Пловдив': 'Three-room apartment',\n",
        "                            'Мезонет': 'Маisonette',\n",
        "                            'Многостаен апартамент в Пловдив': 'Multi-room apartment'}\n",
        "\n",
        "df['apartment type'] = df['apartment type'].replace(apartment_type_rename)"
      ],
      "metadata": {
        "id": "KTDMG6ueca-H"
      },
      "execution_count": 470,
      "outputs": []
    },
    {
      "cell_type": "code",
      "source": [
        "df['district'].unique()"
      ],
      "metadata": {
        "colab": {
          "base_uri": "https://localhost:8080/"
        },
        "id": "8vPh0fX8sSld",
        "outputId": "17319dcc-b393-47fd-fcae-137cbedcbc7c"
      },
      "execution_count": 471,
      "outputs": [
        {
          "output_type": "execute_result",
          "data": {
            "text/plain": [
              "array(['Христо Смирненски', 'Изгрев', 'Кършияка', 'Остромила', 'Съдийски',\n",
              "       'Гагарин', 'Тракия', 'Въстанически / Кючук Париж', 'Център',\n",
              "       'Беломорски', 'Южен', 'Мараша', 'Младежки хълм', 'Каменица 1',\n",
              "       'Коматевско шосе', 'Пловдив', 'Западен', 'Прослав', 'Каменица 2',\n",
              "       'Коматево', 'Гребна база', 'Парк Лаута', 'Коматевски възел',\n",
              "       'Столипиново', 'Захарна фабрика', 'Централна гара', 'ВМИ',\n",
              "       'Филипово', 'Пещерско шосе', 'Стария град / Широк Център',\n",
              "       'Сточна гара', 'Индустриална зона - Изток', 'Марица Север',\n",
              "       'център изток', 'Широк Център', 'Индустриална зона - Тракия'],\n",
              "      dtype=object)"
            ]
          },
          "metadata": {},
          "execution_count": 471
        }
      ]
    },
    {
      "cell_type": "markdown",
      "source": [
        "## Prepare the `district` values"
      ],
      "metadata": {
        "id": "mBqbNtN0-gtO"
      }
    },
    {
      "cell_type": "markdown",
      "source": [
        "Rename `district` values that have a count of under 100 to the district or area most closely associated with them.\n",
        "\n",
        "District values that are unique and can't be included in a wider group will be dropped."
      ],
      "metadata": {
        "id": "DnePi0M85kCJ"
      }
    },
    {
      "cell_type": "code",
      "source": [
        "df[\"district\"].value_counts()"
      ],
      "metadata": {
        "colab": {
          "base_uri": "https://localhost:8080/"
        },
        "id": "Cwc6xjc_40iW",
        "outputId": "fa9c5774-2f84-4196-f4d0-f2a9b339e38d"
      },
      "execution_count": 472,
      "outputs": [
        {
          "output_type": "execute_result",
          "data": {
            "text/plain": [
              "Христо Смирненски             2832\n",
              "Въстанически / Кючук Париж    2423\n",
              "Кършияка                      1753\n",
              "Център                        1608\n",
              "Тракия                        1300\n",
              "Остромила                     1199\n",
              "Южен                           719\n",
              "Гагарин                        439\n",
              "Изгрев                         267\n",
              "Мараша                         264\n",
              "Младежки хълм                  264\n",
              "Каменица 1                     254\n",
              "Беломорски                     239\n",
              "Каменица 2                     221\n",
              "Прослав                        200\n",
              "Съдийски                       181\n",
              "Коматево                       130\n",
              "Западен                        128\n",
              "Пловдив                        108\n",
              "Гребна база                     94\n",
              "Коматевски възел                63\n",
              "Коматевско шосе                 35\n",
              "Захарна фабрика                 18\n",
              "Централна гара                  10\n",
              "Филипово                         7\n",
              "ВМИ                              2\n",
              "Индустриална зона - Изток        2\n",
              "Марица Север                     2\n",
              "Широк Център                     2\n",
              "Столипиново                      1\n",
              "Парк Лаута                       1\n",
              "Пещерско шосе                    1\n",
              "Стария град / Широк Център       1\n",
              "Сточна гара                      1\n",
              "център изток                     1\n",
              "Индустриална зона - Тракия       1\n",
              "Name: district, dtype: int64"
            ]
          },
          "metadata": {},
          "execution_count": 472
        }
      ]
    },
    {
      "cell_type": "code",
      "source": [
        "district_rename = {'Изгрев': 'Sunrise',\n",
        "                  'Христо Смирненски': 'Hristo Smirnenski',\n",
        "                  'Кършияка': 'Kurshiyaka',\n",
        "                  'Остромила': 'Ostromila',\n",
        "                  'Съдийски': 'Judicial',\n",
        "                  'Гагарин': 'Gagarin',\n",
        "                  'Тракия': 'Thrace',\n",
        "                  'Коматевски възел': 'Southern',\n",
        "                  'Коматевско шосе': 'Southern',\n",
        "                  'Захарна фабрика': 'Kurshiyaka',\n",
        "                  'Гребна база': 'Proslav',\n",
        "                  \"Централна гара\": \"Central\",\n",
        "                  'Въстанически / Кючук Париж': 'Southern',\n",
        "                  'Център': 'Central',\n",
        "                  'Беломорски': 'Belomorski',\n",
        "                  'Южен': 'Southern',\n",
        "                  'Мараша': 'Marasha',\n",
        "                  'Младежки хълм': 'Youth hill',\n",
        "                  'Каменица 1': 'Kamenitza 1',\n",
        "                  'Западен': 'Western',\n",
        "                  'Прослав': 'Proslav',\n",
        "                  'Каменица 2': 'Kamenitza 2',\n",
        "                  'Коматево': 'Komatevo'}\n"
      ],
      "metadata": {
        "id": "KcO6t74-Ksq6"
      },
      "execution_count": 473,
      "outputs": []
    },
    {
      "cell_type": "code",
      "source": [
        "def fix_district(df):\n",
        "\n",
        "  # Rename the districts that are with small count\n",
        "  # and in the same area as another district\n",
        "\n",
        "  df[\"district\"] = df[\"district\"].replace(district_rename)\n",
        "\n",
        "  # Create a filter that assigns the total district count to each row's district\n",
        "  df['district_count'] = df.groupby(\"district\")[\"district\"].transform(\"count\")\n",
        "\n",
        "  # Filter the df and include only district that appear over 100 times in total\n",
        "  # and exclude rows with \"Пловдив\" as district\n",
        "  df = df[(df['district_count'] > 9) & (df[\"district\"] != \"Пловдив\")]\n",
        "\n",
        "  # Drop the column we used for the filtering\n",
        "  df.drop(\"district_count\", axis=1, inplace=True)\n",
        "\n",
        "  # Return the value counts\n",
        "  print(df[\"district\"].value_counts())\n",
        "\n",
        "  return df"
      ],
      "metadata": {
        "id": "EplrYzbg42yH"
      },
      "execution_count": 474,
      "outputs": []
    },
    {
      "cell_type": "code",
      "source": [
        "df = fix_district(df)"
      ],
      "metadata": {
        "colab": {
          "base_uri": "https://localhost:8080/"
        },
        "id": "i_gxYDVC8Juw",
        "outputId": "5e14cb33-67f7-44f4-cc15-9739ab39bb82"
      },
      "execution_count": 475,
      "outputs": [
        {
          "output_type": "stream",
          "name": "stdout",
          "text": [
            "Southern             3240\n",
            "Hristo Smirnenski    2832\n",
            "Kurshiyaka           1771\n",
            "Central              1618\n",
            "Thrace               1300\n",
            "Ostromila            1199\n",
            "Gagarin               439\n",
            "Proslav               294\n",
            "Sunrise               267\n",
            "Marasha               264\n",
            "Youth hill            264\n",
            "Kamenitza 1           254\n",
            "Belomorski            239\n",
            "Kamenitza 2           221\n",
            "Judicial              181\n",
            "Komatevo              130\n",
            "Western               128\n",
            "Name: district, dtype: int64\n"
          ]
        },
        {
          "output_type": "stream",
          "name": "stderr",
          "text": [
            "<ipython-input-474-3e3447d55f69>:16: SettingWithCopyWarning: \n",
            "A value is trying to be set on a copy of a slice from a DataFrame\n",
            "\n",
            "See the caveats in the documentation: https://pandas.pydata.org/pandas-docs/stable/user_guide/indexing.html#returning-a-view-versus-a-copy\n",
            "  df.drop(\"district_count\", axis=1, inplace=True)\n"
          ]
        }
      ]
    },
    {
      "cell_type": "markdown",
      "source": [
        "## Prepare the `price` values"
      ],
      "metadata": {
        "id": "_l8lPseyClO_"
      }
    },
    {
      "cell_type": "code",
      "source": [
        "df[\"price\"].shape"
      ],
      "metadata": {
        "colab": {
          "base_uri": "https://localhost:8080/"
        },
        "id": "mC_R8t8AEDvK",
        "outputId": "be4abeb1-b94e-417d-882e-9352a26a4814"
      },
      "execution_count": 476,
      "outputs": [
        {
          "output_type": "execute_result",
          "data": {
            "text/plain": [
              "(14641,)"
            ]
          },
          "metadata": {},
          "execution_count": 476
        }
      ]
    },
    {
      "cell_type": "markdown",
      "source": [
        "We want only the numeric price values to remain in the column.\n",
        "\n",
        "We can try spliting the values by the \"EUR\" value which would leave the value before EUR as the first value. However, we must first ensure that all values in the column contain \"EUR\" after the price"
      ],
      "metadata": {
        "id": "A70xUpFFFr1q"
      }
    },
    {
      "cell_type": "code",
      "source": [
        "df[\"price\"].str.contains(\"EUR\").sum()"
      ],
      "metadata": {
        "colab": {
          "base_uri": "https://localhost:8080/"
        },
        "id": "5wGUt6Kn9ROU",
        "outputId": "6f81a5d7-86a2-4226-b42a-9008356a0215"
      },
      "execution_count": 477,
      "outputs": [
        {
          "output_type": "execute_result",
          "data": {
            "text/plain": [
              "14627"
            ]
          },
          "metadata": {},
          "execution_count": 477
        }
      ]
    },
    {
      "cell_type": "markdown",
      "source": [
        "Looks like there are 14 values that don't have EUR in them."
      ],
      "metadata": {
        "id": "Ec_4AtvEGQgu"
      }
    },
    {
      "cell_type": "code",
      "source": [
        "df[~df[\"price\"].str.contains(\"EUR\")].shape"
      ],
      "metadata": {
        "colab": {
          "base_uri": "https://localhost:8080/"
        },
        "id": "bJr8w23W9Z07",
        "outputId": "dd6689d3-95c8-4068-a9e8-ab58c15fe926"
      },
      "execution_count": 478,
      "outputs": [
        {
          "output_type": "execute_result",
          "data": {
            "text/plain": [
              "(14, 9)"
            ]
          },
          "metadata": {},
          "execution_count": 478
        }
      ]
    },
    {
      "cell_type": "markdown",
      "source": [
        "We have to split these rows by \"лв.\" and convert the number to euro by dividing by 1.96lv."
      ],
      "metadata": {
        "id": "AVZrdfQVGXLe"
      }
    },
    {
      "cell_type": "code",
      "source": [
        "df[~df[\"price\"].str.contains(\"EUR\")]"
      ],
      "metadata": {
        "colab": {
          "base_uri": "https://localhost:8080/",
          "height": 0
        },
        "id": "VDFMsFjt-HqR",
        "outputId": "10b5aec2-ee61-4a74-acc2-ee34f16bdca3"
      },
      "execution_count": 479,
      "outputs": [
        {
          "output_type": "execute_result",
          "data": {
            "text/plain": [
              "                district                            price  \\\n",
              "1233            Southern  124 000 лв. (1 878.79 лв./кв.м)   \n",
              "1357             Sunrise   80 000 лв. (1 818.18 лв./кв.м)   \n",
              "1362          Belomorski  290 000 лв. (1 779.14 лв./кв.м)   \n",
              "1364          Belomorski  165 000 лв. (2 578.13 лв./кв.м)   \n",
              "1373          Belomorski  120 000 лв. (2 033.90 лв./кв.м)   \n",
              "1925             Sunrise  130 000 лв. (2 407.41 лв./кв.м)   \n",
              "2466             Central  320 000 лв. (3 636.36 лв./кв.м)   \n",
              "3687             Central  370 000 лв. (3 523.81 лв./кв.м)   \n",
              "3878           Ostromila  125 000 лв. (2 016.13 лв./кв.м)   \n",
              "5348             Sunrise     63 000 лв. (724.14 лв./кв.м)   \n",
              "8377             Sunrise     102 000 лв. (1 700 лв./кв.м)   \n",
              "10359           Komatevo     123 000 лв. (3 075 лв./кв.м)   \n",
              "14531  Hristo Smirnenski   99 000 лв. (2 357.14 лв./кв.м)   \n",
              "15947         Kurshiyaka  160 000 лв. (1 739.13 лв./кв.м)   \n",
              "\n",
              "             apartment type square meters construction type construction year  \\\n",
              "1233     Two-room apartment       66 кв.м            Bricks           2023 г.   \n",
              "1357     Two-room apartment       44 кв.м             Panel           1980 г.   \n",
              "1362   Multi-room apartment      163 кв.м            Bricks           2024 г.   \n",
              "1364     Two-room apartment       64 кв.м            Bricks           2024 г.   \n",
              "1373     One room apartment       59 кв.м            Bricks           2024 г.   \n",
              "1925   Three-room apartment       54 кв.м            Bricks           1976 г.   \n",
              "2466   Three-room apartment       88 кв.м            Bricks           2004 г.   \n",
              "3687   Three-room apartment      105 кв.м            Bricks           1980 г.   \n",
              "3878     Two-room apartment       62 кв.м            Bricks           2024 г.   \n",
              "5348   Three-room apartment       87 кв.м             Panel           1978 г.   \n",
              "8377     Two-room apartment       60 кв.м             Panel           1980 г.   \n",
              "10359    Two-room apartment       40 кв.м             Panel           1988 г.   \n",
              "14531    One room apartment       42 кв.м            Bricks           2024 г.   \n",
              "15947  Three-room apartment       92 кв.м             Panel           1988 г.   \n",
              "\n",
              "       floor number     floor level of completion  \n",
              "1233              2  Not last     In construction  \n",
              "1357              1     First       Not specified  \n",
              "1362              4  Not last     In construction  \n",
              "1364              2  Not last       Not specified  \n",
              "1373              1     First     In construction  \n",
              "1925              3      Last       Not specified  \n",
              "2466              2  Not last       Not specified  \n",
              "3687              2  Not last       Not specified  \n",
              "3878              3  Not last     In construction  \n",
              "5348              7      Last       Not specified  \n",
              "8377              9      Last       Not specified  \n",
              "10359             1     First       Not specified  \n",
              "14531             5  Not last     In construction  \n",
              "15947             4      Last       Not specified  "
            ],
            "text/html": [
              "\n",
              "  <div id=\"df-43f97f42-35a7-4803-8704-c202dd468a84\" class=\"colab-df-container\">\n",
              "    <div>\n",
              "<style scoped>\n",
              "    .dataframe tbody tr th:only-of-type {\n",
              "        vertical-align: middle;\n",
              "    }\n",
              "\n",
              "    .dataframe tbody tr th {\n",
              "        vertical-align: top;\n",
              "    }\n",
              "\n",
              "    .dataframe thead th {\n",
              "        text-align: right;\n",
              "    }\n",
              "</style>\n",
              "<table border=\"1\" class=\"dataframe\">\n",
              "  <thead>\n",
              "    <tr style=\"text-align: right;\">\n",
              "      <th></th>\n",
              "      <th>district</th>\n",
              "      <th>price</th>\n",
              "      <th>apartment type</th>\n",
              "      <th>square meters</th>\n",
              "      <th>construction type</th>\n",
              "      <th>construction year</th>\n",
              "      <th>floor number</th>\n",
              "      <th>floor</th>\n",
              "      <th>level of completion</th>\n",
              "    </tr>\n",
              "  </thead>\n",
              "  <tbody>\n",
              "    <tr>\n",
              "      <th>1233</th>\n",
              "      <td>Southern</td>\n",
              "      <td>124 000 лв. (1 878.79 лв./кв.м)</td>\n",
              "      <td>Two-room apartment</td>\n",
              "      <td>66 кв.м</td>\n",
              "      <td>Bricks</td>\n",
              "      <td>2023 г.</td>\n",
              "      <td>2</td>\n",
              "      <td>Not last</td>\n",
              "      <td>In construction</td>\n",
              "    </tr>\n",
              "    <tr>\n",
              "      <th>1357</th>\n",
              "      <td>Sunrise</td>\n",
              "      <td>80 000 лв. (1 818.18 лв./кв.м)</td>\n",
              "      <td>Two-room apartment</td>\n",
              "      <td>44 кв.м</td>\n",
              "      <td>Panel</td>\n",
              "      <td>1980 г.</td>\n",
              "      <td>1</td>\n",
              "      <td>First</td>\n",
              "      <td>Not specified</td>\n",
              "    </tr>\n",
              "    <tr>\n",
              "      <th>1362</th>\n",
              "      <td>Belomorski</td>\n",
              "      <td>290 000 лв. (1 779.14 лв./кв.м)</td>\n",
              "      <td>Multi-room apartment</td>\n",
              "      <td>163 кв.м</td>\n",
              "      <td>Bricks</td>\n",
              "      <td>2024 г.</td>\n",
              "      <td>4</td>\n",
              "      <td>Not last</td>\n",
              "      <td>In construction</td>\n",
              "    </tr>\n",
              "    <tr>\n",
              "      <th>1364</th>\n",
              "      <td>Belomorski</td>\n",
              "      <td>165 000 лв. (2 578.13 лв./кв.м)</td>\n",
              "      <td>Two-room apartment</td>\n",
              "      <td>64 кв.м</td>\n",
              "      <td>Bricks</td>\n",
              "      <td>2024 г.</td>\n",
              "      <td>2</td>\n",
              "      <td>Not last</td>\n",
              "      <td>Not specified</td>\n",
              "    </tr>\n",
              "    <tr>\n",
              "      <th>1373</th>\n",
              "      <td>Belomorski</td>\n",
              "      <td>120 000 лв. (2 033.90 лв./кв.м)</td>\n",
              "      <td>One room apartment</td>\n",
              "      <td>59 кв.м</td>\n",
              "      <td>Bricks</td>\n",
              "      <td>2024 г.</td>\n",
              "      <td>1</td>\n",
              "      <td>First</td>\n",
              "      <td>In construction</td>\n",
              "    </tr>\n",
              "    <tr>\n",
              "      <th>1925</th>\n",
              "      <td>Sunrise</td>\n",
              "      <td>130 000 лв. (2 407.41 лв./кв.м)</td>\n",
              "      <td>Three-room apartment</td>\n",
              "      <td>54 кв.м</td>\n",
              "      <td>Bricks</td>\n",
              "      <td>1976 г.</td>\n",
              "      <td>3</td>\n",
              "      <td>Last</td>\n",
              "      <td>Not specified</td>\n",
              "    </tr>\n",
              "    <tr>\n",
              "      <th>2466</th>\n",
              "      <td>Central</td>\n",
              "      <td>320 000 лв. (3 636.36 лв./кв.м)</td>\n",
              "      <td>Three-room apartment</td>\n",
              "      <td>88 кв.м</td>\n",
              "      <td>Bricks</td>\n",
              "      <td>2004 г.</td>\n",
              "      <td>2</td>\n",
              "      <td>Not last</td>\n",
              "      <td>Not specified</td>\n",
              "    </tr>\n",
              "    <tr>\n",
              "      <th>3687</th>\n",
              "      <td>Central</td>\n",
              "      <td>370 000 лв. (3 523.81 лв./кв.м)</td>\n",
              "      <td>Three-room apartment</td>\n",
              "      <td>105 кв.м</td>\n",
              "      <td>Bricks</td>\n",
              "      <td>1980 г.</td>\n",
              "      <td>2</td>\n",
              "      <td>Not last</td>\n",
              "      <td>Not specified</td>\n",
              "    </tr>\n",
              "    <tr>\n",
              "      <th>3878</th>\n",
              "      <td>Ostromila</td>\n",
              "      <td>125 000 лв. (2 016.13 лв./кв.м)</td>\n",
              "      <td>Two-room apartment</td>\n",
              "      <td>62 кв.м</td>\n",
              "      <td>Bricks</td>\n",
              "      <td>2024 г.</td>\n",
              "      <td>3</td>\n",
              "      <td>Not last</td>\n",
              "      <td>In construction</td>\n",
              "    </tr>\n",
              "    <tr>\n",
              "      <th>5348</th>\n",
              "      <td>Sunrise</td>\n",
              "      <td>63 000 лв. (724.14 лв./кв.м)</td>\n",
              "      <td>Three-room apartment</td>\n",
              "      <td>87 кв.м</td>\n",
              "      <td>Panel</td>\n",
              "      <td>1978 г.</td>\n",
              "      <td>7</td>\n",
              "      <td>Last</td>\n",
              "      <td>Not specified</td>\n",
              "    </tr>\n",
              "    <tr>\n",
              "      <th>8377</th>\n",
              "      <td>Sunrise</td>\n",
              "      <td>102 000 лв. (1 700 лв./кв.м)</td>\n",
              "      <td>Two-room apartment</td>\n",
              "      <td>60 кв.м</td>\n",
              "      <td>Panel</td>\n",
              "      <td>1980 г.</td>\n",
              "      <td>9</td>\n",
              "      <td>Last</td>\n",
              "      <td>Not specified</td>\n",
              "    </tr>\n",
              "    <tr>\n",
              "      <th>10359</th>\n",
              "      <td>Komatevo</td>\n",
              "      <td>123 000 лв. (3 075 лв./кв.м)</td>\n",
              "      <td>Two-room apartment</td>\n",
              "      <td>40 кв.м</td>\n",
              "      <td>Panel</td>\n",
              "      <td>1988 г.</td>\n",
              "      <td>1</td>\n",
              "      <td>First</td>\n",
              "      <td>Not specified</td>\n",
              "    </tr>\n",
              "    <tr>\n",
              "      <th>14531</th>\n",
              "      <td>Hristo Smirnenski</td>\n",
              "      <td>99 000 лв. (2 357.14 лв./кв.м)</td>\n",
              "      <td>One room apartment</td>\n",
              "      <td>42 кв.м</td>\n",
              "      <td>Bricks</td>\n",
              "      <td>2024 г.</td>\n",
              "      <td>5</td>\n",
              "      <td>Not last</td>\n",
              "      <td>In construction</td>\n",
              "    </tr>\n",
              "    <tr>\n",
              "      <th>15947</th>\n",
              "      <td>Kurshiyaka</td>\n",
              "      <td>160 000 лв. (1 739.13 лв./кв.м)</td>\n",
              "      <td>Three-room apartment</td>\n",
              "      <td>92 кв.м</td>\n",
              "      <td>Panel</td>\n",
              "      <td>1988 г.</td>\n",
              "      <td>4</td>\n",
              "      <td>Last</td>\n",
              "      <td>Not specified</td>\n",
              "    </tr>\n",
              "  </tbody>\n",
              "</table>\n",
              "</div>\n",
              "    <div class=\"colab-df-buttons\">\n",
              "\n",
              "  <div class=\"colab-df-container\">\n",
              "    <button class=\"colab-df-convert\" onclick=\"convertToInteractive('df-43f97f42-35a7-4803-8704-c202dd468a84')\"\n",
              "            title=\"Convert this dataframe to an interactive table.\"\n",
              "            style=\"display:none;\">\n",
              "\n",
              "  <svg xmlns=\"http://www.w3.org/2000/svg\" height=\"24px\" viewBox=\"0 -960 960 960\">\n",
              "    <path d=\"M120-120v-720h720v720H120Zm60-500h600v-160H180v160Zm220 220h160v-160H400v160Zm0 220h160v-160H400v160ZM180-400h160v-160H180v160Zm440 0h160v-160H620v160ZM180-180h160v-160H180v160Zm440 0h160v-160H620v160Z\"/>\n",
              "  </svg>\n",
              "    </button>\n",
              "\n",
              "  <style>\n",
              "    .colab-df-container {\n",
              "      display:flex;\n",
              "      gap: 12px;\n",
              "    }\n",
              "\n",
              "    .colab-df-convert {\n",
              "      background-color: #E8F0FE;\n",
              "      border: none;\n",
              "      border-radius: 50%;\n",
              "      cursor: pointer;\n",
              "      display: none;\n",
              "      fill: #1967D2;\n",
              "      height: 32px;\n",
              "      padding: 0 0 0 0;\n",
              "      width: 32px;\n",
              "    }\n",
              "\n",
              "    .colab-df-convert:hover {\n",
              "      background-color: #E2EBFA;\n",
              "      box-shadow: 0px 1px 2px rgba(60, 64, 67, 0.3), 0px 1px 3px 1px rgba(60, 64, 67, 0.15);\n",
              "      fill: #174EA6;\n",
              "    }\n",
              "\n",
              "    .colab-df-buttons div {\n",
              "      margin-bottom: 4px;\n",
              "    }\n",
              "\n",
              "    [theme=dark] .colab-df-convert {\n",
              "      background-color: #3B4455;\n",
              "      fill: #D2E3FC;\n",
              "    }\n",
              "\n",
              "    [theme=dark] .colab-df-convert:hover {\n",
              "      background-color: #434B5C;\n",
              "      box-shadow: 0px 1px 3px 1px rgba(0, 0, 0, 0.15);\n",
              "      filter: drop-shadow(0px 1px 2px rgba(0, 0, 0, 0.3));\n",
              "      fill: #FFFFFF;\n",
              "    }\n",
              "  </style>\n",
              "\n",
              "    <script>\n",
              "      const buttonEl =\n",
              "        document.querySelector('#df-43f97f42-35a7-4803-8704-c202dd468a84 button.colab-df-convert');\n",
              "      buttonEl.style.display =\n",
              "        google.colab.kernel.accessAllowed ? 'block' : 'none';\n",
              "\n",
              "      async function convertToInteractive(key) {\n",
              "        const element = document.querySelector('#df-43f97f42-35a7-4803-8704-c202dd468a84');\n",
              "        const dataTable =\n",
              "          await google.colab.kernel.invokeFunction('convertToInteractive',\n",
              "                                                    [key], {});\n",
              "        if (!dataTable) return;\n",
              "\n",
              "        const docLinkHtml = 'Like what you see? Visit the ' +\n",
              "          '<a target=\"_blank\" href=https://colab.research.google.com/notebooks/data_table.ipynb>data table notebook</a>'\n",
              "          + ' to learn more about interactive tables.';\n",
              "        element.innerHTML = '';\n",
              "        dataTable['output_type'] = 'display_data';\n",
              "        await google.colab.output.renderOutput(dataTable, element);\n",
              "        const docLink = document.createElement('div');\n",
              "        docLink.innerHTML = docLinkHtml;\n",
              "        element.appendChild(docLink);\n",
              "      }\n",
              "    </script>\n",
              "  </div>\n",
              "\n",
              "\n",
              "<div id=\"df-cbbc85e6-8287-414c-becf-44b592c1a76b\">\n",
              "  <button class=\"colab-df-quickchart\" onclick=\"quickchart('df-cbbc85e6-8287-414c-becf-44b592c1a76b')\"\n",
              "            title=\"Suggest charts\"\n",
              "            style=\"display:none;\">\n",
              "\n",
              "<svg xmlns=\"http://www.w3.org/2000/svg\" height=\"24px\"viewBox=\"0 0 24 24\"\n",
              "     width=\"24px\">\n",
              "    <g>\n",
              "        <path d=\"M19 3H5c-1.1 0-2 .9-2 2v14c0 1.1.9 2 2 2h14c1.1 0 2-.9 2-2V5c0-1.1-.9-2-2-2zM9 17H7v-7h2v7zm4 0h-2V7h2v10zm4 0h-2v-4h2v4z\"/>\n",
              "    </g>\n",
              "</svg>\n",
              "  </button>\n",
              "\n",
              "<style>\n",
              "  .colab-df-quickchart {\n",
              "      --bg-color: #E8F0FE;\n",
              "      --fill-color: #1967D2;\n",
              "      --hover-bg-color: #E2EBFA;\n",
              "      --hover-fill-color: #174EA6;\n",
              "      --disabled-fill-color: #AAA;\n",
              "      --disabled-bg-color: #DDD;\n",
              "  }\n",
              "\n",
              "  [theme=dark] .colab-df-quickchart {\n",
              "      --bg-color: #3B4455;\n",
              "      --fill-color: #D2E3FC;\n",
              "      --hover-bg-color: #434B5C;\n",
              "      --hover-fill-color: #FFFFFF;\n",
              "      --disabled-bg-color: #3B4455;\n",
              "      --disabled-fill-color: #666;\n",
              "  }\n",
              "\n",
              "  .colab-df-quickchart {\n",
              "    background-color: var(--bg-color);\n",
              "    border: none;\n",
              "    border-radius: 50%;\n",
              "    cursor: pointer;\n",
              "    display: none;\n",
              "    fill: var(--fill-color);\n",
              "    height: 32px;\n",
              "    padding: 0;\n",
              "    width: 32px;\n",
              "  }\n",
              "\n",
              "  .colab-df-quickchart:hover {\n",
              "    background-color: var(--hover-bg-color);\n",
              "    box-shadow: 0 1px 2px rgba(60, 64, 67, 0.3), 0 1px 3px 1px rgba(60, 64, 67, 0.15);\n",
              "    fill: var(--button-hover-fill-color);\n",
              "  }\n",
              "\n",
              "  .colab-df-quickchart-complete:disabled,\n",
              "  .colab-df-quickchart-complete:disabled:hover {\n",
              "    background-color: var(--disabled-bg-color);\n",
              "    fill: var(--disabled-fill-color);\n",
              "    box-shadow: none;\n",
              "  }\n",
              "\n",
              "  .colab-df-spinner {\n",
              "    border: 2px solid var(--fill-color);\n",
              "    border-color: transparent;\n",
              "    border-bottom-color: var(--fill-color);\n",
              "    animation:\n",
              "      spin 1s steps(1) infinite;\n",
              "  }\n",
              "\n",
              "  @keyframes spin {\n",
              "    0% {\n",
              "      border-color: transparent;\n",
              "      border-bottom-color: var(--fill-color);\n",
              "      border-left-color: var(--fill-color);\n",
              "    }\n",
              "    20% {\n",
              "      border-color: transparent;\n",
              "      border-left-color: var(--fill-color);\n",
              "      border-top-color: var(--fill-color);\n",
              "    }\n",
              "    30% {\n",
              "      border-color: transparent;\n",
              "      border-left-color: var(--fill-color);\n",
              "      border-top-color: var(--fill-color);\n",
              "      border-right-color: var(--fill-color);\n",
              "    }\n",
              "    40% {\n",
              "      border-color: transparent;\n",
              "      border-right-color: var(--fill-color);\n",
              "      border-top-color: var(--fill-color);\n",
              "    }\n",
              "    60% {\n",
              "      border-color: transparent;\n",
              "      border-right-color: var(--fill-color);\n",
              "    }\n",
              "    80% {\n",
              "      border-color: transparent;\n",
              "      border-right-color: var(--fill-color);\n",
              "      border-bottom-color: var(--fill-color);\n",
              "    }\n",
              "    90% {\n",
              "      border-color: transparent;\n",
              "      border-bottom-color: var(--fill-color);\n",
              "    }\n",
              "  }\n",
              "</style>\n",
              "\n",
              "  <script>\n",
              "    async function quickchart(key) {\n",
              "      const quickchartButtonEl =\n",
              "        document.querySelector('#' + key + ' button');\n",
              "      quickchartButtonEl.disabled = true;  // To prevent multiple clicks.\n",
              "      quickchartButtonEl.classList.add('colab-df-spinner');\n",
              "      try {\n",
              "        const charts = await google.colab.kernel.invokeFunction(\n",
              "            'suggestCharts', [key], {});\n",
              "      } catch (error) {\n",
              "        console.error('Error during call to suggestCharts:', error);\n",
              "      }\n",
              "      quickchartButtonEl.classList.remove('colab-df-spinner');\n",
              "      quickchartButtonEl.classList.add('colab-df-quickchart-complete');\n",
              "    }\n",
              "    (() => {\n",
              "      let quickchartButtonEl =\n",
              "        document.querySelector('#df-cbbc85e6-8287-414c-becf-44b592c1a76b button');\n",
              "      quickchartButtonEl.style.display =\n",
              "        google.colab.kernel.accessAllowed ? 'block' : 'none';\n",
              "    })();\n",
              "  </script>\n",
              "</div>\n",
              "    </div>\n",
              "  </div>\n"
            ]
          },
          "metadata": {},
          "execution_count": 479
        }
      ]
    },
    {
      "cell_type": "markdown",
      "source": [
        "1. Find the values in Bulgarin lev\n",
        "2. Split the rows so only the numerical values remain\n",
        "3. Convert lev to euro by dividing the values by 1.96\n",
        "4. Change the values in the original dataframe with the new values"
      ],
      "metadata": {
        "id": "T-azNShOM04G"
      }
    },
    {
      "cell_type": "code",
      "source": [
        "def remove_whitespace(string):\n",
        "  #In this case due to encoding, the white spaces are marked as '\\xa0'\n",
        "  return string.replace(\"\\xa0\",\"\")\n",
        "\n",
        "def rework_price(df):\n",
        "\n",
        "  # Remove the white spaces from the `price` column\n",
        "  df[\"price\"] = df[\"price\"].apply(remove_whitespace)\n",
        "\n",
        "  # Find all values that contain `lv.`, split them, select only the numericals,\n",
        "  # convert them to ints and convert to EUR\n",
        "  lv_to_eur = (df[df[\"price\"].str.contains(\"лв.\")][\"price\"].str.split(\"лв.\").str[0].astype(int)/1.96).astype(int)\n",
        "\n",
        "  # Replace the original values with the new ones\n",
        "  df.loc[lv_to_eur.index, \"price\"] = lv_to_eur.values\n",
        "\n",
        "  # Convert the remaining values in EUR to numericals\n",
        "  # with the help of the `lv_to_eur` value\n",
        "  df.loc[~df.index.isin(lv_to_eur.index),\"price\"] =\\\n",
        "   df.loc[~df.index.isin(lv_to_eur.index)][\"price\"].str.split(\"EUR\").str[0].astype(float)\n",
        "\n",
        "  df[\"price\"] = df[\"price\"].astype(\"int\")\n",
        "\n",
        "  return df"
      ],
      "metadata": {
        "id": "IC1wv-unK-kZ"
      },
      "execution_count": 480,
      "outputs": []
    },
    {
      "cell_type": "code",
      "source": [
        "rework_price(df)"
      ],
      "metadata": {
        "id": "rsLY5tnJHyz0",
        "colab": {
          "base_uri": "https://localhost:8080/",
          "height": 0
        },
        "outputId": "310d2a29-0f1a-481b-fba0-853abb4d4238"
      },
      "execution_count": 481,
      "outputs": [
        {
          "output_type": "stream",
          "name": "stderr",
          "text": [
            "<ipython-input-480-deae252befa3>:8: SettingWithCopyWarning: \n",
            "A value is trying to be set on a copy of a slice from a DataFrame.\n",
            "Try using .loc[row_indexer,col_indexer] = value instead\n",
            "\n",
            "See the caveats in the documentation: https://pandas.pydata.org/pandas-docs/stable/user_guide/indexing.html#returning-a-view-versus-a-copy\n",
            "  df[\"price\"] = df[\"price\"].apply(remove_whitespace)\n",
            "<ipython-input-480-deae252befa3>:22: SettingWithCopyWarning: \n",
            "A value is trying to be set on a copy of a slice from a DataFrame.\n",
            "Try using .loc[row_indexer,col_indexer] = value instead\n",
            "\n",
            "See the caveats in the documentation: https://pandas.pydata.org/pandas-docs/stable/user_guide/indexing.html#returning-a-view-versus-a-copy\n",
            "  df[\"price\"] = df[\"price\"].astype(\"int\")\n"
          ]
        },
        {
          "output_type": "execute_result",
          "data": {
            "text/plain": [
              "                district   price        apartment type square meters  \\\n",
              "0      Hristo Smirnenski  104999    Two-room apartment       80 кв.м   \n",
              "1                Sunrise   61500    Two-room apartment       67 кв.м   \n",
              "2      Hristo Smirnenski   89760  Three-room apartment      102 кв.м   \n",
              "3             Kurshiyaka  101000  Three-room apartment       83 кв.м   \n",
              "4              Ostromila   29520    One room apartment       41 кв.м   \n",
              "...                  ...     ...                   ...           ...   \n",
              "16154         Kurshiyaka  212865  Three-room apartment      128 кв.м   \n",
              "16155         Kurshiyaka  102062    One room apartment       61 кв.м   \n",
              "16156  Hristo Smirnenski  111300  Three-room apartment      106 кв.м   \n",
              "16159  Hristo Smirnenski   61000    One room apartment       49 кв.м   \n",
              "16160  Hristo Smirnenski   54800    One room apartment       40 кв.м   \n",
              "\n",
              "      construction type construction year  floor number     floor  \\\n",
              "0                Bricks           2021 г.             4  Not last   \n",
              "1                 Panel           1995 г.             5  Not last   \n",
              "2                Bricks           2023 г.             4  Not last   \n",
              "3                 Panel           1980 г.             4  Not last   \n",
              "4                Bricks           2024 г.             4  Not last   \n",
              "...                 ...               ...           ...       ...   \n",
              "16154            Bricks           2022 г.             3   Unknown   \n",
              "16155            Bricks           2022 г.             3   Unknown   \n",
              "16156            Bricks           2021 г.             3   Unknown   \n",
              "16159            Bricks           2021 г.             3   Unknown   \n",
              "16160            Bricks           2021 г.             3   Unknown   \n",
              "\n",
              "      level of completion  \n",
              "0           Not specified  \n",
              "1           Not specified  \n",
              "2         In construction  \n",
              "3           Not specified  \n",
              "4         In construction  \n",
              "...                   ...  \n",
              "16154     In construction  \n",
              "16155     In construction  \n",
              "16156       Not specified  \n",
              "16159     In construction  \n",
              "16160     In construction  \n",
              "\n",
              "[14641 rows x 9 columns]"
            ],
            "text/html": [
              "\n",
              "  <div id=\"df-e0659eb6-0b6c-4def-8d66-9b51f086c5ea\" class=\"colab-df-container\">\n",
              "    <div>\n",
              "<style scoped>\n",
              "    .dataframe tbody tr th:only-of-type {\n",
              "        vertical-align: middle;\n",
              "    }\n",
              "\n",
              "    .dataframe tbody tr th {\n",
              "        vertical-align: top;\n",
              "    }\n",
              "\n",
              "    .dataframe thead th {\n",
              "        text-align: right;\n",
              "    }\n",
              "</style>\n",
              "<table border=\"1\" class=\"dataframe\">\n",
              "  <thead>\n",
              "    <tr style=\"text-align: right;\">\n",
              "      <th></th>\n",
              "      <th>district</th>\n",
              "      <th>price</th>\n",
              "      <th>apartment type</th>\n",
              "      <th>square meters</th>\n",
              "      <th>construction type</th>\n",
              "      <th>construction year</th>\n",
              "      <th>floor number</th>\n",
              "      <th>floor</th>\n",
              "      <th>level of completion</th>\n",
              "    </tr>\n",
              "  </thead>\n",
              "  <tbody>\n",
              "    <tr>\n",
              "      <th>0</th>\n",
              "      <td>Hristo Smirnenski</td>\n",
              "      <td>104999</td>\n",
              "      <td>Two-room apartment</td>\n",
              "      <td>80 кв.м</td>\n",
              "      <td>Bricks</td>\n",
              "      <td>2021 г.</td>\n",
              "      <td>4</td>\n",
              "      <td>Not last</td>\n",
              "      <td>Not specified</td>\n",
              "    </tr>\n",
              "    <tr>\n",
              "      <th>1</th>\n",
              "      <td>Sunrise</td>\n",
              "      <td>61500</td>\n",
              "      <td>Two-room apartment</td>\n",
              "      <td>67 кв.м</td>\n",
              "      <td>Panel</td>\n",
              "      <td>1995 г.</td>\n",
              "      <td>5</td>\n",
              "      <td>Not last</td>\n",
              "      <td>Not specified</td>\n",
              "    </tr>\n",
              "    <tr>\n",
              "      <th>2</th>\n",
              "      <td>Hristo Smirnenski</td>\n",
              "      <td>89760</td>\n",
              "      <td>Three-room apartment</td>\n",
              "      <td>102 кв.м</td>\n",
              "      <td>Bricks</td>\n",
              "      <td>2023 г.</td>\n",
              "      <td>4</td>\n",
              "      <td>Not last</td>\n",
              "      <td>In construction</td>\n",
              "    </tr>\n",
              "    <tr>\n",
              "      <th>3</th>\n",
              "      <td>Kurshiyaka</td>\n",
              "      <td>101000</td>\n",
              "      <td>Three-room apartment</td>\n",
              "      <td>83 кв.м</td>\n",
              "      <td>Panel</td>\n",
              "      <td>1980 г.</td>\n",
              "      <td>4</td>\n",
              "      <td>Not last</td>\n",
              "      <td>Not specified</td>\n",
              "    </tr>\n",
              "    <tr>\n",
              "      <th>4</th>\n",
              "      <td>Ostromila</td>\n",
              "      <td>29520</td>\n",
              "      <td>One room apartment</td>\n",
              "      <td>41 кв.м</td>\n",
              "      <td>Bricks</td>\n",
              "      <td>2024 г.</td>\n",
              "      <td>4</td>\n",
              "      <td>Not last</td>\n",
              "      <td>In construction</td>\n",
              "    </tr>\n",
              "    <tr>\n",
              "      <th>...</th>\n",
              "      <td>...</td>\n",
              "      <td>...</td>\n",
              "      <td>...</td>\n",
              "      <td>...</td>\n",
              "      <td>...</td>\n",
              "      <td>...</td>\n",
              "      <td>...</td>\n",
              "      <td>...</td>\n",
              "      <td>...</td>\n",
              "    </tr>\n",
              "    <tr>\n",
              "      <th>16154</th>\n",
              "      <td>Kurshiyaka</td>\n",
              "      <td>212865</td>\n",
              "      <td>Three-room apartment</td>\n",
              "      <td>128 кв.м</td>\n",
              "      <td>Bricks</td>\n",
              "      <td>2022 г.</td>\n",
              "      <td>3</td>\n",
              "      <td>Unknown</td>\n",
              "      <td>In construction</td>\n",
              "    </tr>\n",
              "    <tr>\n",
              "      <th>16155</th>\n",
              "      <td>Kurshiyaka</td>\n",
              "      <td>102062</td>\n",
              "      <td>One room apartment</td>\n",
              "      <td>61 кв.м</td>\n",
              "      <td>Bricks</td>\n",
              "      <td>2022 г.</td>\n",
              "      <td>3</td>\n",
              "      <td>Unknown</td>\n",
              "      <td>In construction</td>\n",
              "    </tr>\n",
              "    <tr>\n",
              "      <th>16156</th>\n",
              "      <td>Hristo Smirnenski</td>\n",
              "      <td>111300</td>\n",
              "      <td>Three-room apartment</td>\n",
              "      <td>106 кв.м</td>\n",
              "      <td>Bricks</td>\n",
              "      <td>2021 г.</td>\n",
              "      <td>3</td>\n",
              "      <td>Unknown</td>\n",
              "      <td>Not specified</td>\n",
              "    </tr>\n",
              "    <tr>\n",
              "      <th>16159</th>\n",
              "      <td>Hristo Smirnenski</td>\n",
              "      <td>61000</td>\n",
              "      <td>One room apartment</td>\n",
              "      <td>49 кв.м</td>\n",
              "      <td>Bricks</td>\n",
              "      <td>2021 г.</td>\n",
              "      <td>3</td>\n",
              "      <td>Unknown</td>\n",
              "      <td>In construction</td>\n",
              "    </tr>\n",
              "    <tr>\n",
              "      <th>16160</th>\n",
              "      <td>Hristo Smirnenski</td>\n",
              "      <td>54800</td>\n",
              "      <td>One room apartment</td>\n",
              "      <td>40 кв.м</td>\n",
              "      <td>Bricks</td>\n",
              "      <td>2021 г.</td>\n",
              "      <td>3</td>\n",
              "      <td>Unknown</td>\n",
              "      <td>In construction</td>\n",
              "    </tr>\n",
              "  </tbody>\n",
              "</table>\n",
              "<p>14641 rows × 9 columns</p>\n",
              "</div>\n",
              "    <div class=\"colab-df-buttons\">\n",
              "\n",
              "  <div class=\"colab-df-container\">\n",
              "    <button class=\"colab-df-convert\" onclick=\"convertToInteractive('df-e0659eb6-0b6c-4def-8d66-9b51f086c5ea')\"\n",
              "            title=\"Convert this dataframe to an interactive table.\"\n",
              "            style=\"display:none;\">\n",
              "\n",
              "  <svg xmlns=\"http://www.w3.org/2000/svg\" height=\"24px\" viewBox=\"0 -960 960 960\">\n",
              "    <path d=\"M120-120v-720h720v720H120Zm60-500h600v-160H180v160Zm220 220h160v-160H400v160Zm0 220h160v-160H400v160ZM180-400h160v-160H180v160Zm440 0h160v-160H620v160ZM180-180h160v-160H180v160Zm440 0h160v-160H620v160Z\"/>\n",
              "  </svg>\n",
              "    </button>\n",
              "\n",
              "  <style>\n",
              "    .colab-df-container {\n",
              "      display:flex;\n",
              "      gap: 12px;\n",
              "    }\n",
              "\n",
              "    .colab-df-convert {\n",
              "      background-color: #E8F0FE;\n",
              "      border: none;\n",
              "      border-radius: 50%;\n",
              "      cursor: pointer;\n",
              "      display: none;\n",
              "      fill: #1967D2;\n",
              "      height: 32px;\n",
              "      padding: 0 0 0 0;\n",
              "      width: 32px;\n",
              "    }\n",
              "\n",
              "    .colab-df-convert:hover {\n",
              "      background-color: #E2EBFA;\n",
              "      box-shadow: 0px 1px 2px rgba(60, 64, 67, 0.3), 0px 1px 3px 1px rgba(60, 64, 67, 0.15);\n",
              "      fill: #174EA6;\n",
              "    }\n",
              "\n",
              "    .colab-df-buttons div {\n",
              "      margin-bottom: 4px;\n",
              "    }\n",
              "\n",
              "    [theme=dark] .colab-df-convert {\n",
              "      background-color: #3B4455;\n",
              "      fill: #D2E3FC;\n",
              "    }\n",
              "\n",
              "    [theme=dark] .colab-df-convert:hover {\n",
              "      background-color: #434B5C;\n",
              "      box-shadow: 0px 1px 3px 1px rgba(0, 0, 0, 0.15);\n",
              "      filter: drop-shadow(0px 1px 2px rgba(0, 0, 0, 0.3));\n",
              "      fill: #FFFFFF;\n",
              "    }\n",
              "  </style>\n",
              "\n",
              "    <script>\n",
              "      const buttonEl =\n",
              "        document.querySelector('#df-e0659eb6-0b6c-4def-8d66-9b51f086c5ea button.colab-df-convert');\n",
              "      buttonEl.style.display =\n",
              "        google.colab.kernel.accessAllowed ? 'block' : 'none';\n",
              "\n",
              "      async function convertToInteractive(key) {\n",
              "        const element = document.querySelector('#df-e0659eb6-0b6c-4def-8d66-9b51f086c5ea');\n",
              "        const dataTable =\n",
              "          await google.colab.kernel.invokeFunction('convertToInteractive',\n",
              "                                                    [key], {});\n",
              "        if (!dataTable) return;\n",
              "\n",
              "        const docLinkHtml = 'Like what you see? Visit the ' +\n",
              "          '<a target=\"_blank\" href=https://colab.research.google.com/notebooks/data_table.ipynb>data table notebook</a>'\n",
              "          + ' to learn more about interactive tables.';\n",
              "        element.innerHTML = '';\n",
              "        dataTable['output_type'] = 'display_data';\n",
              "        await google.colab.output.renderOutput(dataTable, element);\n",
              "        const docLink = document.createElement('div');\n",
              "        docLink.innerHTML = docLinkHtml;\n",
              "        element.appendChild(docLink);\n",
              "      }\n",
              "    </script>\n",
              "  </div>\n",
              "\n",
              "\n",
              "<div id=\"df-7310918a-b442-4a37-83c8-d0a4503ccc00\">\n",
              "  <button class=\"colab-df-quickchart\" onclick=\"quickchart('df-7310918a-b442-4a37-83c8-d0a4503ccc00')\"\n",
              "            title=\"Suggest charts\"\n",
              "            style=\"display:none;\">\n",
              "\n",
              "<svg xmlns=\"http://www.w3.org/2000/svg\" height=\"24px\"viewBox=\"0 0 24 24\"\n",
              "     width=\"24px\">\n",
              "    <g>\n",
              "        <path d=\"M19 3H5c-1.1 0-2 .9-2 2v14c0 1.1.9 2 2 2h14c1.1 0 2-.9 2-2V5c0-1.1-.9-2-2-2zM9 17H7v-7h2v7zm4 0h-2V7h2v10zm4 0h-2v-4h2v4z\"/>\n",
              "    </g>\n",
              "</svg>\n",
              "  </button>\n",
              "\n",
              "<style>\n",
              "  .colab-df-quickchart {\n",
              "      --bg-color: #E8F0FE;\n",
              "      --fill-color: #1967D2;\n",
              "      --hover-bg-color: #E2EBFA;\n",
              "      --hover-fill-color: #174EA6;\n",
              "      --disabled-fill-color: #AAA;\n",
              "      --disabled-bg-color: #DDD;\n",
              "  }\n",
              "\n",
              "  [theme=dark] .colab-df-quickchart {\n",
              "      --bg-color: #3B4455;\n",
              "      --fill-color: #D2E3FC;\n",
              "      --hover-bg-color: #434B5C;\n",
              "      --hover-fill-color: #FFFFFF;\n",
              "      --disabled-bg-color: #3B4455;\n",
              "      --disabled-fill-color: #666;\n",
              "  }\n",
              "\n",
              "  .colab-df-quickchart {\n",
              "    background-color: var(--bg-color);\n",
              "    border: none;\n",
              "    border-radius: 50%;\n",
              "    cursor: pointer;\n",
              "    display: none;\n",
              "    fill: var(--fill-color);\n",
              "    height: 32px;\n",
              "    padding: 0;\n",
              "    width: 32px;\n",
              "  }\n",
              "\n",
              "  .colab-df-quickchart:hover {\n",
              "    background-color: var(--hover-bg-color);\n",
              "    box-shadow: 0 1px 2px rgba(60, 64, 67, 0.3), 0 1px 3px 1px rgba(60, 64, 67, 0.15);\n",
              "    fill: var(--button-hover-fill-color);\n",
              "  }\n",
              "\n",
              "  .colab-df-quickchart-complete:disabled,\n",
              "  .colab-df-quickchart-complete:disabled:hover {\n",
              "    background-color: var(--disabled-bg-color);\n",
              "    fill: var(--disabled-fill-color);\n",
              "    box-shadow: none;\n",
              "  }\n",
              "\n",
              "  .colab-df-spinner {\n",
              "    border: 2px solid var(--fill-color);\n",
              "    border-color: transparent;\n",
              "    border-bottom-color: var(--fill-color);\n",
              "    animation:\n",
              "      spin 1s steps(1) infinite;\n",
              "  }\n",
              "\n",
              "  @keyframes spin {\n",
              "    0% {\n",
              "      border-color: transparent;\n",
              "      border-bottom-color: var(--fill-color);\n",
              "      border-left-color: var(--fill-color);\n",
              "    }\n",
              "    20% {\n",
              "      border-color: transparent;\n",
              "      border-left-color: var(--fill-color);\n",
              "      border-top-color: var(--fill-color);\n",
              "    }\n",
              "    30% {\n",
              "      border-color: transparent;\n",
              "      border-left-color: var(--fill-color);\n",
              "      border-top-color: var(--fill-color);\n",
              "      border-right-color: var(--fill-color);\n",
              "    }\n",
              "    40% {\n",
              "      border-color: transparent;\n",
              "      border-right-color: var(--fill-color);\n",
              "      border-top-color: var(--fill-color);\n",
              "    }\n",
              "    60% {\n",
              "      border-color: transparent;\n",
              "      border-right-color: var(--fill-color);\n",
              "    }\n",
              "    80% {\n",
              "      border-color: transparent;\n",
              "      border-right-color: var(--fill-color);\n",
              "      border-bottom-color: var(--fill-color);\n",
              "    }\n",
              "    90% {\n",
              "      border-color: transparent;\n",
              "      border-bottom-color: var(--fill-color);\n",
              "    }\n",
              "  }\n",
              "</style>\n",
              "\n",
              "  <script>\n",
              "    async function quickchart(key) {\n",
              "      const quickchartButtonEl =\n",
              "        document.querySelector('#' + key + ' button');\n",
              "      quickchartButtonEl.disabled = true;  // To prevent multiple clicks.\n",
              "      quickchartButtonEl.classList.add('colab-df-spinner');\n",
              "      try {\n",
              "        const charts = await google.colab.kernel.invokeFunction(\n",
              "            'suggestCharts', [key], {});\n",
              "      } catch (error) {\n",
              "        console.error('Error during call to suggestCharts:', error);\n",
              "      }\n",
              "      quickchartButtonEl.classList.remove('colab-df-spinner');\n",
              "      quickchartButtonEl.classList.add('colab-df-quickchart-complete');\n",
              "    }\n",
              "    (() => {\n",
              "      let quickchartButtonEl =\n",
              "        document.querySelector('#df-7310918a-b442-4a37-83c8-d0a4503ccc00 button');\n",
              "      quickchartButtonEl.style.display =\n",
              "        google.colab.kernel.accessAllowed ? 'block' : 'none';\n",
              "    })();\n",
              "  </script>\n",
              "</div>\n",
              "    </div>\n",
              "  </div>\n"
            ]
          },
          "metadata": {},
          "execution_count": 481
        }
      ]
    },
    {
      "cell_type": "code",
      "source": [
        "df.info()"
      ],
      "metadata": {
        "colab": {
          "base_uri": "https://localhost:8080/"
        },
        "id": "wU2Z0Uo1GVAe",
        "outputId": "475d3843-d17f-443f-8213-6f0e71fac2ff"
      },
      "execution_count": 482,
      "outputs": [
        {
          "output_type": "stream",
          "name": "stdout",
          "text": [
            "<class 'pandas.core.frame.DataFrame'>\n",
            "Int64Index: 14641 entries, 0 to 16160\n",
            "Data columns (total 9 columns):\n",
            " #   Column               Non-Null Count  Dtype \n",
            "---  ------               --------------  ----- \n",
            " 0   district             14641 non-null  object\n",
            " 1   price                14641 non-null  int64 \n",
            " 2   apartment type       14641 non-null  object\n",
            " 3   square meters        14641 non-null  object\n",
            " 4   construction type    14641 non-null  object\n",
            " 5   construction year    14641 non-null  object\n",
            " 6   floor number         14641 non-null  int64 \n",
            " 7   floor                14641 non-null  object\n",
            " 8   level of completion  14641 non-null  object\n",
            "dtypes: int64(2), object(7)\n",
            "memory usage: 1.6+ MB\n"
          ]
        }
      ]
    },
    {
      "cell_type": "markdown",
      "source": [
        "## Prepare `square meters` and `construction year` columns"
      ],
      "metadata": {
        "id": "J3FhgJ31M8hY"
      }
    },
    {
      "cell_type": "code",
      "source": [
        "construction_years = df[\"construction year\"].str.split(\" \").str[0].astype(int)"
      ],
      "metadata": {
        "id": "zsCJX-5xezxq"
      },
      "execution_count": 483,
      "outputs": []
    },
    {
      "cell_type": "code",
      "source": [
        "df.loc[construction_years.index, \"construction year\"] = construction_years.values"
      ],
      "metadata": {
        "colab": {
          "base_uri": "https://localhost:8080/"
        },
        "id": "tDueZhHTfHo9",
        "outputId": "0ebb2806-f4de-4625-fde7-a112d7974ab0"
      },
      "execution_count": 484,
      "outputs": [
        {
          "output_type": "stream",
          "name": "stderr",
          "text": [
            "<ipython-input-484-c2871585e8ee>:1: SettingWithCopyWarning: \n",
            "A value is trying to be set on a copy of a slice from a DataFrame.\n",
            "Try using .loc[row_indexer,col_indexer] = value instead\n",
            "\n",
            "See the caveats in the documentation: https://pandas.pydata.org/pandas-docs/stable/user_guide/indexing.html#returning-a-view-versus-a-copy\n",
            "  df.loc[construction_years.index, \"construction year\"] = construction_years.values\n",
            "<ipython-input-484-c2871585e8ee>:1: DeprecationWarning: In a future version, `df.iloc[:, i] = newvals` will attempt to set the values inplace instead of always setting a new array. To retain the old behavior, use either `df[df.columns[i]] = newvals` or, if columns are non-unique, `df.isetitem(i, newvals)`\n",
            "  df.loc[construction_years.index, \"construction year\"] = construction_years.values\n"
          ]
        }
      ]
    },
    {
      "cell_type": "code",
      "source": [
        "square_meters = df[\"square meters\"].str.split(\" \").str[0].astype(float)"
      ],
      "metadata": {
        "id": "fJmg7Vo1fi3b"
      },
      "execution_count": 485,
      "outputs": []
    },
    {
      "cell_type": "code",
      "source": [
        "df.loc[square_meters.index, \"square meters\"] = square_meters.values"
      ],
      "metadata": {
        "colab": {
          "base_uri": "https://localhost:8080/"
        },
        "id": "SB0qRbARf7Lv",
        "outputId": "87a8f8f8-c207-40ee-f141-e7a1053931ef"
      },
      "execution_count": 486,
      "outputs": [
        {
          "output_type": "stream",
          "name": "stderr",
          "text": [
            "<ipython-input-486-3c70fc0feed9>:1: SettingWithCopyWarning: \n",
            "A value is trying to be set on a copy of a slice from a DataFrame.\n",
            "Try using .loc[row_indexer,col_indexer] = value instead\n",
            "\n",
            "See the caveats in the documentation: https://pandas.pydata.org/pandas-docs/stable/user_guide/indexing.html#returning-a-view-versus-a-copy\n",
            "  df.loc[square_meters.index, \"square meters\"] = square_meters.values\n",
            "<ipython-input-486-3c70fc0feed9>:1: DeprecationWarning: In a future version, `df.iloc[:, i] = newvals` will attempt to set the values inplace instead of always setting a new array. To retain the old behavior, use either `df[df.columns[i]] = newvals` or, if columns are non-unique, `df.isetitem(i, newvals)`\n",
            "  df.loc[square_meters.index, \"square meters\"] = square_meters.values\n"
          ]
        }
      ]
    },
    {
      "cell_type": "markdown",
      "source": [
        "## Check the `price` and `square meters` distributions"
      ],
      "metadata": {
        "id": "F87dcn_X4F3s"
      }
    },
    {
      "cell_type": "code",
      "source": [
        "df.shape"
      ],
      "metadata": {
        "colab": {
          "base_uri": "https://localhost:8080/"
        },
        "id": "w8ODOni65HWl",
        "outputId": "7013db36-a254-4cdf-9f89-2722f721e99f"
      },
      "execution_count": 487,
      "outputs": [
        {
          "output_type": "execute_result",
          "data": {
            "text/plain": [
              "(14641, 9)"
            ]
          },
          "metadata": {},
          "execution_count": 487
        }
      ]
    },
    {
      "cell_type": "code",
      "source": [
        "df.describe()"
      ],
      "metadata": {
        "colab": {
          "base_uri": "https://localhost:8080/",
          "height": 300
        },
        "id": "G17PkMOZ4KDb",
        "outputId": "83582fbc-2ef2-4b3e-8a04-5dbcdbd0b984"
      },
      "execution_count": 488,
      "outputs": [
        {
          "output_type": "execute_result",
          "data": {
            "text/plain": [
              "               price  square meters  construction year  floor number\n",
              "count   14641.000000   14641.000000       14641.000000  14641.000000\n",
              "mean   113403.113175      91.453306        2014.075746      4.112151\n",
              "std     53813.949322      36.389047          16.479829      2.273959\n",
              "min      1200.000000      10.000000        1886.000000      1.000000\n",
              "25%     78425.000000      68.000000        2010.000000      3.000000\n",
              "50%    100000.000000      83.000000        2023.000000      4.000000\n",
              "75%    134200.000000     106.000000        2024.000000      5.000000\n",
              "max    699999.000000     600.000000        2027.000000     19.000000"
            ],
            "text/html": [
              "\n",
              "  <div id=\"df-ab02d1b1-b2ba-4abc-9c97-8da0cacca421\" class=\"colab-df-container\">\n",
              "    <div>\n",
              "<style scoped>\n",
              "    .dataframe tbody tr th:only-of-type {\n",
              "        vertical-align: middle;\n",
              "    }\n",
              "\n",
              "    .dataframe tbody tr th {\n",
              "        vertical-align: top;\n",
              "    }\n",
              "\n",
              "    .dataframe thead th {\n",
              "        text-align: right;\n",
              "    }\n",
              "</style>\n",
              "<table border=\"1\" class=\"dataframe\">\n",
              "  <thead>\n",
              "    <tr style=\"text-align: right;\">\n",
              "      <th></th>\n",
              "      <th>price</th>\n",
              "      <th>square meters</th>\n",
              "      <th>construction year</th>\n",
              "      <th>floor number</th>\n",
              "    </tr>\n",
              "  </thead>\n",
              "  <tbody>\n",
              "    <tr>\n",
              "      <th>count</th>\n",
              "      <td>14641.000000</td>\n",
              "      <td>14641.000000</td>\n",
              "      <td>14641.000000</td>\n",
              "      <td>14641.000000</td>\n",
              "    </tr>\n",
              "    <tr>\n",
              "      <th>mean</th>\n",
              "      <td>113403.113175</td>\n",
              "      <td>91.453306</td>\n",
              "      <td>2014.075746</td>\n",
              "      <td>4.112151</td>\n",
              "    </tr>\n",
              "    <tr>\n",
              "      <th>std</th>\n",
              "      <td>53813.949322</td>\n",
              "      <td>36.389047</td>\n",
              "      <td>16.479829</td>\n",
              "      <td>2.273959</td>\n",
              "    </tr>\n",
              "    <tr>\n",
              "      <th>min</th>\n",
              "      <td>1200.000000</td>\n",
              "      <td>10.000000</td>\n",
              "      <td>1886.000000</td>\n",
              "      <td>1.000000</td>\n",
              "    </tr>\n",
              "    <tr>\n",
              "      <th>25%</th>\n",
              "      <td>78425.000000</td>\n",
              "      <td>68.000000</td>\n",
              "      <td>2010.000000</td>\n",
              "      <td>3.000000</td>\n",
              "    </tr>\n",
              "    <tr>\n",
              "      <th>50%</th>\n",
              "      <td>100000.000000</td>\n",
              "      <td>83.000000</td>\n",
              "      <td>2023.000000</td>\n",
              "      <td>4.000000</td>\n",
              "    </tr>\n",
              "    <tr>\n",
              "      <th>75%</th>\n",
              "      <td>134200.000000</td>\n",
              "      <td>106.000000</td>\n",
              "      <td>2024.000000</td>\n",
              "      <td>5.000000</td>\n",
              "    </tr>\n",
              "    <tr>\n",
              "      <th>max</th>\n",
              "      <td>699999.000000</td>\n",
              "      <td>600.000000</td>\n",
              "      <td>2027.000000</td>\n",
              "      <td>19.000000</td>\n",
              "    </tr>\n",
              "  </tbody>\n",
              "</table>\n",
              "</div>\n",
              "    <div class=\"colab-df-buttons\">\n",
              "\n",
              "  <div class=\"colab-df-container\">\n",
              "    <button class=\"colab-df-convert\" onclick=\"convertToInteractive('df-ab02d1b1-b2ba-4abc-9c97-8da0cacca421')\"\n",
              "            title=\"Convert this dataframe to an interactive table.\"\n",
              "            style=\"display:none;\">\n",
              "\n",
              "  <svg xmlns=\"http://www.w3.org/2000/svg\" height=\"24px\" viewBox=\"0 -960 960 960\">\n",
              "    <path d=\"M120-120v-720h720v720H120Zm60-500h600v-160H180v160Zm220 220h160v-160H400v160Zm0 220h160v-160H400v160ZM180-400h160v-160H180v160Zm440 0h160v-160H620v160ZM180-180h160v-160H180v160Zm440 0h160v-160H620v160Z\"/>\n",
              "  </svg>\n",
              "    </button>\n",
              "\n",
              "  <style>\n",
              "    .colab-df-container {\n",
              "      display:flex;\n",
              "      gap: 12px;\n",
              "    }\n",
              "\n",
              "    .colab-df-convert {\n",
              "      background-color: #E8F0FE;\n",
              "      border: none;\n",
              "      border-radius: 50%;\n",
              "      cursor: pointer;\n",
              "      display: none;\n",
              "      fill: #1967D2;\n",
              "      height: 32px;\n",
              "      padding: 0 0 0 0;\n",
              "      width: 32px;\n",
              "    }\n",
              "\n",
              "    .colab-df-convert:hover {\n",
              "      background-color: #E2EBFA;\n",
              "      box-shadow: 0px 1px 2px rgba(60, 64, 67, 0.3), 0px 1px 3px 1px rgba(60, 64, 67, 0.15);\n",
              "      fill: #174EA6;\n",
              "    }\n",
              "\n",
              "    .colab-df-buttons div {\n",
              "      margin-bottom: 4px;\n",
              "    }\n",
              "\n",
              "    [theme=dark] .colab-df-convert {\n",
              "      background-color: #3B4455;\n",
              "      fill: #D2E3FC;\n",
              "    }\n",
              "\n",
              "    [theme=dark] .colab-df-convert:hover {\n",
              "      background-color: #434B5C;\n",
              "      box-shadow: 0px 1px 3px 1px rgba(0, 0, 0, 0.15);\n",
              "      filter: drop-shadow(0px 1px 2px rgba(0, 0, 0, 0.3));\n",
              "      fill: #FFFFFF;\n",
              "    }\n",
              "  </style>\n",
              "\n",
              "    <script>\n",
              "      const buttonEl =\n",
              "        document.querySelector('#df-ab02d1b1-b2ba-4abc-9c97-8da0cacca421 button.colab-df-convert');\n",
              "      buttonEl.style.display =\n",
              "        google.colab.kernel.accessAllowed ? 'block' : 'none';\n",
              "\n",
              "      async function convertToInteractive(key) {\n",
              "        const element = document.querySelector('#df-ab02d1b1-b2ba-4abc-9c97-8da0cacca421');\n",
              "        const dataTable =\n",
              "          await google.colab.kernel.invokeFunction('convertToInteractive',\n",
              "                                                    [key], {});\n",
              "        if (!dataTable) return;\n",
              "\n",
              "        const docLinkHtml = 'Like what you see? Visit the ' +\n",
              "          '<a target=\"_blank\" href=https://colab.research.google.com/notebooks/data_table.ipynb>data table notebook</a>'\n",
              "          + ' to learn more about interactive tables.';\n",
              "        element.innerHTML = '';\n",
              "        dataTable['output_type'] = 'display_data';\n",
              "        await google.colab.output.renderOutput(dataTable, element);\n",
              "        const docLink = document.createElement('div');\n",
              "        docLink.innerHTML = docLinkHtml;\n",
              "        element.appendChild(docLink);\n",
              "      }\n",
              "    </script>\n",
              "  </div>\n",
              "\n",
              "\n",
              "<div id=\"df-51dc3893-a0dc-422e-9a57-05b94be8daf0\">\n",
              "  <button class=\"colab-df-quickchart\" onclick=\"quickchart('df-51dc3893-a0dc-422e-9a57-05b94be8daf0')\"\n",
              "            title=\"Suggest charts\"\n",
              "            style=\"display:none;\">\n",
              "\n",
              "<svg xmlns=\"http://www.w3.org/2000/svg\" height=\"24px\"viewBox=\"0 0 24 24\"\n",
              "     width=\"24px\">\n",
              "    <g>\n",
              "        <path d=\"M19 3H5c-1.1 0-2 .9-2 2v14c0 1.1.9 2 2 2h14c1.1 0 2-.9 2-2V5c0-1.1-.9-2-2-2zM9 17H7v-7h2v7zm4 0h-2V7h2v10zm4 0h-2v-4h2v4z\"/>\n",
              "    </g>\n",
              "</svg>\n",
              "  </button>\n",
              "\n",
              "<style>\n",
              "  .colab-df-quickchart {\n",
              "      --bg-color: #E8F0FE;\n",
              "      --fill-color: #1967D2;\n",
              "      --hover-bg-color: #E2EBFA;\n",
              "      --hover-fill-color: #174EA6;\n",
              "      --disabled-fill-color: #AAA;\n",
              "      --disabled-bg-color: #DDD;\n",
              "  }\n",
              "\n",
              "  [theme=dark] .colab-df-quickchart {\n",
              "      --bg-color: #3B4455;\n",
              "      --fill-color: #D2E3FC;\n",
              "      --hover-bg-color: #434B5C;\n",
              "      --hover-fill-color: #FFFFFF;\n",
              "      --disabled-bg-color: #3B4455;\n",
              "      --disabled-fill-color: #666;\n",
              "  }\n",
              "\n",
              "  .colab-df-quickchart {\n",
              "    background-color: var(--bg-color);\n",
              "    border: none;\n",
              "    border-radius: 50%;\n",
              "    cursor: pointer;\n",
              "    display: none;\n",
              "    fill: var(--fill-color);\n",
              "    height: 32px;\n",
              "    padding: 0;\n",
              "    width: 32px;\n",
              "  }\n",
              "\n",
              "  .colab-df-quickchart:hover {\n",
              "    background-color: var(--hover-bg-color);\n",
              "    box-shadow: 0 1px 2px rgba(60, 64, 67, 0.3), 0 1px 3px 1px rgba(60, 64, 67, 0.15);\n",
              "    fill: var(--button-hover-fill-color);\n",
              "  }\n",
              "\n",
              "  .colab-df-quickchart-complete:disabled,\n",
              "  .colab-df-quickchart-complete:disabled:hover {\n",
              "    background-color: var(--disabled-bg-color);\n",
              "    fill: var(--disabled-fill-color);\n",
              "    box-shadow: none;\n",
              "  }\n",
              "\n",
              "  .colab-df-spinner {\n",
              "    border: 2px solid var(--fill-color);\n",
              "    border-color: transparent;\n",
              "    border-bottom-color: var(--fill-color);\n",
              "    animation:\n",
              "      spin 1s steps(1) infinite;\n",
              "  }\n",
              "\n",
              "  @keyframes spin {\n",
              "    0% {\n",
              "      border-color: transparent;\n",
              "      border-bottom-color: var(--fill-color);\n",
              "      border-left-color: var(--fill-color);\n",
              "    }\n",
              "    20% {\n",
              "      border-color: transparent;\n",
              "      border-left-color: var(--fill-color);\n",
              "      border-top-color: var(--fill-color);\n",
              "    }\n",
              "    30% {\n",
              "      border-color: transparent;\n",
              "      border-left-color: var(--fill-color);\n",
              "      border-top-color: var(--fill-color);\n",
              "      border-right-color: var(--fill-color);\n",
              "    }\n",
              "    40% {\n",
              "      border-color: transparent;\n",
              "      border-right-color: var(--fill-color);\n",
              "      border-top-color: var(--fill-color);\n",
              "    }\n",
              "    60% {\n",
              "      border-color: transparent;\n",
              "      border-right-color: var(--fill-color);\n",
              "    }\n",
              "    80% {\n",
              "      border-color: transparent;\n",
              "      border-right-color: var(--fill-color);\n",
              "      border-bottom-color: var(--fill-color);\n",
              "    }\n",
              "    90% {\n",
              "      border-color: transparent;\n",
              "      border-bottom-color: var(--fill-color);\n",
              "    }\n",
              "  }\n",
              "</style>\n",
              "\n",
              "  <script>\n",
              "    async function quickchart(key) {\n",
              "      const quickchartButtonEl =\n",
              "        document.querySelector('#' + key + ' button');\n",
              "      quickchartButtonEl.disabled = true;  // To prevent multiple clicks.\n",
              "      quickchartButtonEl.classList.add('colab-df-spinner');\n",
              "      try {\n",
              "        const charts = await google.colab.kernel.invokeFunction(\n",
              "            'suggestCharts', [key], {});\n",
              "      } catch (error) {\n",
              "        console.error('Error during call to suggestCharts:', error);\n",
              "      }\n",
              "      quickchartButtonEl.classList.remove('colab-df-spinner');\n",
              "      quickchartButtonEl.classList.add('colab-df-quickchart-complete');\n",
              "    }\n",
              "    (() => {\n",
              "      let quickchartButtonEl =\n",
              "        document.querySelector('#df-51dc3893-a0dc-422e-9a57-05b94be8daf0 button');\n",
              "      quickchartButtonEl.style.display =\n",
              "        google.colab.kernel.accessAllowed ? 'block' : 'none';\n",
              "    })();\n",
              "  </script>\n",
              "</div>\n",
              "    </div>\n",
              "  </div>\n"
            ]
          },
          "metadata": {},
          "execution_count": 488
        }
      ]
    },
    {
      "cell_type": "markdown",
      "source": [
        "A first look at the data description shows a price value that is unrealistic.\n",
        "\n",
        "We will also check for outliers in the `square meters` and `price` columns"
      ],
      "metadata": {
        "id": "fbCeLXo0MWJ7"
      }
    },
    {
      "cell_type": "code",
      "source": [
        "df = df[df[\"price\"] != 1200]"
      ],
      "metadata": {
        "id": "cjLWlFPD4RM7"
      },
      "execution_count": 489,
      "outputs": []
    },
    {
      "cell_type": "code",
      "source": [
        "df[\"square meters\"].value_counts().sort_index().iloc[:15]"
      ],
      "metadata": {
        "colab": {
          "base_uri": "https://localhost:8080/"
        },
        "id": "-6TC0oeCSF-U",
        "outputId": "06f35d64-73ae-4236-f49c-a4ac1797ecb1"
      },
      "execution_count": 490,
      "outputs": [
        {
          "output_type": "execute_result",
          "data": {
            "text/plain": [
              "10.0    4\n",
              "15.0    2\n",
              "20.0    1\n",
              "21.0    1\n",
              "22.0    1\n",
              "23.0    3\n",
              "25.0    2\n",
              "26.0    1\n",
              "28.0    1\n",
              "29.0    1\n",
              "30.0    8\n",
              "31.0    6\n",
              "32.0    2\n",
              "33.0    8\n",
              "34.0    6\n",
              "Name: square meters, dtype: int64"
            ]
          },
          "metadata": {},
          "execution_count": 490
        }
      ]
    },
    {
      "cell_type": "markdown",
      "source": [
        "Check price and square meters distributions"
      ],
      "metadata": {
        "id": "qNDgqXnlSSpR"
      }
    },
    {
      "cell_type": "code",
      "source": [
        "df[\"price\"].hist(bins=50)\n",
        "plt.title('Price distribution');"
      ],
      "metadata": {
        "colab": {
          "base_uri": "https://localhost:8080/",
          "height": 452
        },
        "id": "pOh60bf8SU64",
        "outputId": "28dc5572-7b6e-4215-c347-3774c8925bdc"
      },
      "execution_count": 491,
      "outputs": [
        {
          "output_type": "display_data",
          "data": {
            "text/plain": [
              "<Figure size 640x480 with 1 Axes>"
            ],
            "image/png": "[encoded data removed]"
          },
          "metadata": {}
        }
      ]
    },
    {
      "cell_type": "code",
      "source": [
        "df[\"square meters\"].hist(bins=50)\n",
        "plt.title('Square meters distribution');"
      ],
      "metadata": {
        "colab": {
          "base_uri": "https://localhost:8080/",
          "height": 452
        },
        "id": "P1cWv4Z-pDHY",
        "outputId": "10a85d71-8c20-4205-f554-951034f129c6"
      },
      "execution_count": 492,
      "outputs": [
        {
          "output_type": "display_data",
          "data": {
            "text/plain": [
              "<Figure size 640x480 with 1 Axes>"
            ],
            "image/png": "[encoded data removed]"
          },
          "metadata": {}
        }
      ]
    },
    {
      "cell_type": "code",
      "source": [
        "price_zscores = zscore(df[\"price\"])"
      ],
      "metadata": {
        "id": "0cODYwPnuaVA"
      },
      "execution_count": 493,
      "outputs": []
    },
    {
      "cell_type": "code",
      "source": [
        "square_meters_zscores = zscore(df[\"square meters\"])"
      ],
      "metadata": {
        "id": "vZajlV51u2u7"
      },
      "execution_count": 494,
      "outputs": []
    },
    {
      "cell_type": "markdown",
      "source": [
        "It's not the best approach to lightly remove data points that are too high however since the dataframe is not rich in features that could possibly explain  high values, we will work only with values within three standard deviation from the mean (zscore < 3) as this would, to some extend, help put the model score better.\n",
        "\n",
        "If we had features that:\n",
        "- show the number of bathrooms\n",
        "- tell whether the apartment is furnished or not\n",
        "- specify whether there is/are parking spots included\n",
        "- whether the building has Act 16;\n",
        "it would have been more reasonable to keep the higher values since the additional features could have served to explain the extremes.\n",
        "\n",
        "Also, there are a lot of apartments that are either \"In construction\" or \"In a project\" but this is not explicitly stated which in and of itself is a major contributor to the price calculation and would distorts the model performance."
      ],
      "metadata": {
        "id": "geyHxmMVMslZ"
      }
    },
    {
      "cell_type": "code",
      "source": [
        "# There are no z-scores below 3\n",
        "df = df[~(price_zscores > 3) & ~(square_meters_zscores > 3)]"
      ],
      "metadata": {
        "id": "GM8eE3tru7B8"
      },
      "execution_count": 495,
      "outputs": []
    },
    {
      "cell_type": "markdown",
      "source": [
        "## Encoding of categorical columns - `apartment type`, `construction type`, `floor`, `level of completion`, `district`."
      ],
      "metadata": {
        "id": "MRpBxEDTgd-i"
      }
    },
    {
      "cell_type": "code",
      "source": [
        "def onehot_encoder(df, columns):\n",
        "\n",
        "  onehot = OneHotEncoder(sparse_output=False, )\n",
        "\n",
        "  cols_to_encode = columns\n",
        "\n",
        "  encoded_cols = onehot.fit_transform(df[cols_to_encode])\n",
        "\n",
        "  df_encoded = pd.DataFrame(encoded_cols, columns = onehot.get_feature_names_out(input_features=cols_to_encode))\n",
        "\n",
        "  df.reset_index(drop=True, inplace=True)\n",
        "\n",
        "  new_df = pd.concat([df, df_encoded], axis=1)\n",
        "\n",
        "  new_df.drop(columns=cols_to_encode, inplace=True)\n",
        "\n",
        "  return new_df"
      ],
      "metadata": {
        "id": "K1Tof9x83muZ"
      },
      "execution_count": 496,
      "outputs": []
    },
    {
      "cell_type": "code",
      "source": [
        "final_df = onehot_encoder(df, [\"district\", \"construction type\", \"floor\", \"level of completion\"])"
      ],
      "metadata": {
        "id": "of2_2vur4nrE"
      },
      "execution_count": 497,
      "outputs": []
    },
    {
      "cell_type": "code",
      "source": [
        "final_df.columns = final_df.columns.str.replace(\"district_\", \"\").str.replace(\"construction type_\", \"\").str.replace(\"floor_\", \"\").str.replace(\"level of completion_\", \"\")"
      ],
      "metadata": {
        "id": "KuO-OuryUUyX"
      },
      "execution_count": 498,
      "outputs": []
    },
    {
      "cell_type": "code",
      "source": [
        "apartment_type_encode = {'One room apartment': 1,\n",
        "                         'Studio': 2,\n",
        "                         'Two-room apartment': 3,\n",
        "                         'Three-room apartment': 4,\n",
        "                         'Маisonette': 5,\n",
        "                         'Multi-room apartment': 6}"
      ],
      "metadata": {
        "id": "CyMhEteUFCdj"
      },
      "execution_count": 499,
      "outputs": []
    },
    {
      "cell_type": "code",
      "source": [
        "final_df[\"apartment type\"].unique()"
      ],
      "metadata": {
        "colab": {
          "base_uri": "https://localhost:8080/"
        },
        "id": "Ei35ZcxYxclK",
        "outputId": "091b0d59-56b7-4dfe-ee4c-f308bc5d9664"
      },
      "execution_count": 500,
      "outputs": [
        {
          "output_type": "execute_result",
          "data": {
            "text/plain": [
              "array(['Two-room apartment', 'Three-room apartment', 'One room apartment',\n",
              "       'Multi-room apartment', 'Маisonette', 'Studio'], dtype=object)"
            ]
          },
          "metadata": {},
          "execution_count": 500
        }
      ]
    },
    {
      "cell_type": "code",
      "source": [
        "final_df[\"apartment type\"] = final_df[\"apartment type\"].replace(apartment_type_encode).astype(\"int\")"
      ],
      "metadata": {
        "id": "JB8KH7oYFkm9"
      },
      "execution_count": 501,
      "outputs": []
    },
    {
      "cell_type": "markdown",
      "source": [
        "## Train the model"
      ],
      "metadata": {
        "id": "En6NvHyalVnc"
      }
    },
    {
      "cell_type": "code",
      "source": [
        "final_df.shape"
      ],
      "metadata": {
        "colab": {
          "base_uri": "https://localhost:8080/"
        },
        "id": "yDvdJkR8byl7",
        "outputId": "03db4a16-9dbc-45f3-8a0b-da0a89feb2c2"
      },
      "execution_count": 502,
      "outputs": [
        {
          "output_type": "execute_result",
          "data": {
            "text/plain": [
              "(14235, 36)"
            ]
          },
          "metadata": {},
          "execution_count": 502
        }
      ]
    },
    {
      "cell_type": "code",
      "source": [
        "target = final_df[\"price\"]\n",
        "features = final_df.drop(\"price\", axis=1)"
      ],
      "metadata": {
        "id": "6X1i-XvOln0g"
      },
      "execution_count": 503,
      "outputs": []
    },
    {
      "cell_type": "markdown",
      "source": [
        "Hyperparameter tunning with Optuna"
      ],
      "metadata": {
        "id": "_ezdvrpNNmyW"
      }
    },
    {
      "cell_type": "code",
      "source": [
        "def objective(trial):\n",
        "    params = {\n",
        "        'objective': 'reg:squarederror',\n",
        "        'eval_metric': 'rmse',\n",
        "        'learning_rate': trial.suggest_float('learning_rate', 0.1, 0.3),\n",
        "        'max_depth': trial.suggest_int('max_depth', 3, 10),\n",
        "        'n_estimators': trial.suggest_int('n_estimators', 50, 400),\n",
        "        'reg_lambda': trial.suggest_float('reg_alpha', 0, 1.0),\n",
        "        'subsample': trial.suggest_float('subsample', 0.4, 1.0),\n",
        "        'colsample_bytree': trial.suggest_float('colsample_bytree', 0.4,1.0)\n",
        "    }\n",
        "\n",
        "    model = xg.XGBRegressor(**params, early_stopping_rounds=50)\n",
        "\n",
        "    model.fit(x_train, y_train, eval_set=[(x_val, y_val)], verbose=False)\n",
        "\n",
        "    preds = model.predict(x_val)\n",
        "    rmse = MSE(y_val, preds, squared=False)\n",
        "\n",
        "    return rmse\n",
        "\n",
        "# Train-test-validation split\n",
        "x_train, x_temp, y_train, y_temp = train_test_split(features, target, test_size = 0.33, random_state=8)\n",
        "x_val, x_test, y_val, y_test = train_test_split(x_temp, y_temp, test_size = 0.5, random_state=8)\n",
        "\n",
        "# Create a study object and optimize\n",
        "study = optuna.create_study(direction='minimize')\n",
        "study.optimize(objective, n_trials=200)\n",
        "\n",
        "# Get the best parameters\n",
        "best_params = study.best_params\n",
        "print(\"Best Parameters:\", best_params)"
      ],
      "metadata": {
        "id": "JO-ZRCdrbiDH"
      },
      "execution_count": 426,
      "outputs": []
    },
    {
      "cell_type": "markdown",
      "source": [
        "Cross validation with Stratified K-Folds"
      ],
      "metadata": {
        "id": "L6x_0Orm0HOT"
      }
    },
    {
      "cell_type": "code",
      "source": [
        "n_splits = 5\n",
        "skf = StratifiedKFold(n_splits = n_splits, shuffle=True, random_state=8)\n",
        "\n",
        "rmse_mean = []\n",
        "\n",
        "for fold,(train_idx, val_idx) in enumerate(skf.split(features, target)):\n",
        "\n",
        "  print(f\"\\nFold {fold + 1}/{n_splits}\")\n",
        "\n",
        "  X_train, X_val = features.loc[train_idx], features.loc[val_idx]\n",
        "  Y_train, Y_val = target[train_idx], target[val_idx]\n",
        "\n",
        "  best_model = xg.XGBRegressor(**best_params)\n",
        "  best_model.fit(X_train, Y_train)\n",
        "\n",
        "  predictions = best_model.predict(X_val)\n",
        "\n",
        "  # Evaluate the model (you can use different metrics)\n",
        "  rmse = np.sqrt(MSE(Y_val, predictions))\n",
        "  rmse_mean.append(rmse)\n",
        "  print(rmse)\n",
        "print(f\"\\nMean RMSE score: {np.mean(rmse_mean)}\")"
      ],
      "metadata": {
        "colab": {
          "base_uri": "https://localhost:8080/"
        },
        "id": "MU_-aaz20HBg",
        "outputId": "a99a67fc-5093-476d-c6d3-3883d098e527"
      },
      "execution_count": 427,
      "outputs": [
        {
          "output_type": "stream",
          "name": "stderr",
          "text": [
            "/usr/local/lib/python3.10/dist-packages/sklearn/model_selection/_split.py:700: UserWarning: The least populated class in y has only 1 members, which is less than n_splits=5.\n",
            "  warnings.warn(\n"
          ]
        },
        {
          "output_type": "stream",
          "name": "stdout",
          "text": [
            "\n",
            "Fold 1/5\n",
            "18856.12808264417\n",
            "\n",
            "Fold 2/5\n",
            "19126.522186706756\n",
            "\n",
            "Fold 3/5\n",
            "18844.29075829043\n",
            "\n",
            "Fold 4/5\n",
            "19389.87673767469\n",
            "\n",
            "Fold 5/5\n",
            "18941.875265582345\n",
            "\n",
            "Mean RMSE score: 19031.73860617968\n"
          ]
        }
      ]
    },
    {
      "cell_type": "markdown",
      "source": [
        "Check the RMSE on the test data."
      ],
      "metadata": {
        "id": "sUM4ifFsNxah"
      }
    },
    {
      "cell_type": "code",
      "source": [
        "new_pred = best_model.predict(x_test)\n",
        "\n",
        "# RMSE Computation\n",
        "rmse = np.sqrt(MSE(y_test, new_pred))\n",
        "print(\"RMSE : % f\" %(rmse))"
      ],
      "metadata": {
        "colab": {
          "base_uri": "https://localhost:8080/"
        },
        "id": "zkIebo4VJ8pv",
        "outputId": "8ccaec11-4bb8-4c63-9891-f652601d0b00"
      },
      "execution_count": 428,
      "outputs": [
        {
          "output_type": "stream",
          "name": "stdout",
          "text": [
            "RMSE :  11828.042682\n"
          ]
        }
      ]
    },
    {
      "cell_type": "markdown",
      "source": [
        "## Save the model"
      ],
      "metadata": {
        "id": "wJsUgJ1rfOS2"
      }
    },
    {
      "cell_type": "code",
      "source": [
        "#model = pickle.load(open('pld_estate_prediction_model.pkl', 'rb'))"
      ],
      "metadata": {
        "id": "mpehggUd31Ki"
      },
      "execution_count": 63,
      "outputs": []
    },
    {
      "cell_type": "code",
      "source": [
        "pickle.dump(best_model, open('pld_estate_prediction_model.pkl', 'wb'))"
      ],
      "metadata": {
        "id": "um3vE-QH32UI"
      },
      "execution_count": 429,
      "outputs": []
    },
    {
      "cell_type": "code",
      "source": [],
      "metadata": {
        "id": "oEYO1PiAzwju"
      },
      "execution_count": null,
      "outputs": []
    }
  ]
}